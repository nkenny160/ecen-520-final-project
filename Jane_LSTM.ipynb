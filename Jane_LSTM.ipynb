{
 "cells": [
  {
   "cell_type": "code",
   "execution_count": 1,
   "id": "053c5e93",
   "metadata": {
    "execution": {
     "iopub.execute_input": "2024-12-05T03:05:27.417013Z",
     "iopub.status.busy": "2024-12-05T03:05:27.416553Z",
     "iopub.status.idle": "2024-12-05T03:05:48.097535Z",
     "shell.execute_reply": "2024-12-05T03:05:48.096786Z"
    },
    "papermill": {
     "duration": 20.688351,
     "end_time": "2024-12-05T03:05:48.099595",
     "exception": false,
     "start_time": "2024-12-05T03:05:27.411244",
     "status": "completed"
    },
    "tags": []
   },
   "outputs": [],
   "source": [
    "import pandas as pd\n",
    "import polars as pl\n",
    "df = pd.read_parquet(\"/kaggle/input/jane-street-real-time-market-data-forecasting/train.parquet/partition_id=0/part-0.parquet\")\n",
    "df_pl = pl.read_parquet(\"/kaggle/input/jane-street-real-time-market-data-forecasting/train.parquet/partition_id=0/part-0.parquet\")\n",
    "\n",
    "# Three Cases\n",
    "# 1. Fully Empty columns : we can just drop them\n",
    "# 2. Partially Empty Columns: we can impute them\n",
    "# 3. Full Columns : No imputation necessary\n",
    "\n",
    "empty_columns = []\n",
    "fully_filled_columns = []\n",
    "partially_empty_columns = []\n",
    "\n",
    "for feature in df_pl.columns:\n",
    "    # Count empty and non-empty rows\n",
    "    empty_rows = df_pl[feature].is_null().sum()\n",
    "    nonempty_rows = len(df_pl[feature]) - empty_rows\n",
    "\n",
    "    # Classify the columns based on the counts\n",
    "    if nonempty_rows == 0:\n",
    "        empty_columns.append(feature)\n",
    "    elif empty_rows == 0:\n",
    "        fully_filled_columns.append(feature)\n",
    "    else:\n",
    "        partially_empty_columns.append(feature)\n",
    "\n",
    "# We don't use df_pl again, so delete it to conserve memory\n",
    "del df_pl\n",
    "\n",
    "df.sort_values(['time_id','date_id'])\n",
    "\n",
    "# drop empty columns using imputer\n",
    "df = df.drop(empty_columns, axis = 1)\n",
    "\n",
    "# Fill in partially empty columns\n",
    "for feature in partially_empty_columns:\n",
    "    df[feature] = df.groupby('symbol_id')[feature].transform(lambda x: x.ffill().bfill())\n",
    "\n",
    "# Split data temporally - in partition0 there are 170 days and 849 unique time ids per day\n",
    "df = df.sort_values(['date_id', 'time_id'])\n",
    "date_counts = df.date_id.value_counts()\n",
    "date_counts = pd.DataFrame(date_counts.sort_index())\n",
    "date_counts['cumulative_sum'] = date_counts['count'].cumsum()\n",
    "\n",
    "# Organize columns into different groups\n",
    "TIME_FEATURES = ['relative_timestamp']\n",
    "MARKET_FEATURES = [f'feature_{i:02}' for i in range(0,79) if f'feature_{i:02}' in df.columns]\n",
    "RESPONDER_FEATURES = [f'responder_{i}' for i in range(0,9) if f'responder_{i}' in df.columns]\n",
    "# RESPONDER_FEATURES.remove('responder_6')\n",
    "SYMBOL_FEATURES = ['symbol_id']\n",
    "\n",
    "# Normalize Data\n",
    "from sklearn.preprocessing import StandardScaler\n",
    "scaler = StandardScaler()\n",
    "cols_to_normalize = MARKET_FEATURES + RESPONDER_FEATURES\n",
    "df[cols_to_normalize] = scaler.fit_transform(df[cols_to_normalize])\n",
    "\n",
    "# Determine splitting points\n",
    "total = len(df)\n",
    "train_percentage = 0.6\n",
    "val_percentage = 0.2\n",
    "test_percentage = 0.2\n",
    "apprx_train_len = int(total*train_percentage)\n",
    "apprx_val_len = int(total*val_percentage) \n",
    "apprx_test_len = total - apprx_train_len - apprx_val_len\n",
    "\n",
    "# Determine Splitting points\n",
    "\n",
    "def split_func(row):\n",
    "    s = row['cumulative_sum']\n",
    "    if s <= apprx_train_len:\n",
    "        return 'Train'\n",
    "    elif (s > apprx_train_len) and (s <= apprx_train_len + apprx_val_len):\n",
    "        return 'Val'\n",
    "    elif (s > apprx_train_len + apprx_val_len):\n",
    "        return 'Test'\n",
    "    else:\n",
    "        raise ValueError\n",
    "\n",
    "date_counts['Split'] = date_counts.apply(split_func, axis = 1)\n",
    "# print(date_counts.Split.value_counts())\n",
    "\n",
    "last_train_data = date_counts[date_counts.Split == 'Train'].tail(1) \n",
    "first_test_data = date_counts[date_counts.Split == 'Test'].head(1)\n",
    "\n",
    "# Once Splitting points are determined, then make the necessary splits\n",
    " \n",
    "def split_func_df(row):\n",
    "    s = row['date_id']\n",
    "    if s <= last_train_data.index[0]:\n",
    "        return 'Train'\n",
    "    elif (s > last_train_data.index[0]) and (s < first_test_data.index[0]):\n",
    "        return 'Val'\n",
    "    elif (s >= first_test_data.index[0]):\n",
    "        return 'Test'\n",
    "    else:\n",
    "        raise ValueError\n",
    "\n",
    "# Potentially encode time_id as sine/cosine to capture cyclical nature\n",
    "# train_df['time_sin'] = np.sin(2 * np.pi * train_df['time_id'] / max_time_id)\n",
    "# train_df['time_cos'] = np.cos(2 * np.pi * train_df['time_id'] / max_time_id)\n",
    "\n"
   ]
  },
  {
   "cell_type": "code",
   "execution_count": 2,
   "id": "7b20074f",
   "metadata": {
    "execution": {
     "iopub.execute_input": "2024-12-05T03:05:48.107398Z",
     "iopub.status.busy": "2024-12-05T03:05:48.106822Z",
     "iopub.status.idle": "2024-12-05T03:05:48.547304Z",
     "shell.execute_reply": "2024-12-05T03:05:48.546558Z"
    },
    "papermill": {
     "duration": 0.446367,
     "end_time": "2024-12-05T03:05:48.549417",
     "exception": false,
     "start_time": "2024-12-05T03:05:48.103050",
     "status": "completed"
    },
    "tags": []
   },
   "outputs": [],
   "source": [
    "df = df[df.symbol_id.isin(range(10))]"
   ]
  },
  {
   "cell_type": "code",
   "execution_count": 3,
   "id": "54ce2048",
   "metadata": {
    "execution": {
     "iopub.execute_input": "2024-12-05T03:05:48.556825Z",
     "iopub.status.busy": "2024-12-05T03:05:48.556542Z",
     "iopub.status.idle": "2024-12-05T03:05:48.584783Z",
     "shell.execute_reply": "2024-12-05T03:05:48.583952Z"
    },
    "papermill": {
     "duration": 0.033954,
     "end_time": "2024-12-05T03:05:48.586705",
     "exception": false,
     "start_time": "2024-12-05T03:05:48.552751",
     "status": "completed"
    },
    "tags": []
   },
   "outputs": [
    {
     "name": "stdout",
     "output_type": "stream",
     "text": [
      "This parquet has 9 distinct symbol_ids\n"
     ]
    },
    {
     "data": {
      "text/html": [
       "<div>\n",
       "<style scoped>\n",
       "    .dataframe tbody tr th:only-of-type {\n",
       "        vertical-align: middle;\n",
       "    }\n",
       "\n",
       "    .dataframe tbody tr th {\n",
       "        vertical-align: top;\n",
       "    }\n",
       "\n",
       "    .dataframe thead th {\n",
       "        text-align: right;\n",
       "    }\n",
       "</style>\n",
       "<table border=\"1\" class=\"dataframe\">\n",
       "  <thead>\n",
       "    <tr style=\"text-align: right;\">\n",
       "      <th></th>\n",
       "      <th>symbol_id_0</th>\n",
       "      <th>symbol_id_1</th>\n",
       "      <th>symbol_id_2</th>\n",
       "      <th>symbol_id_3</th>\n",
       "      <th>symbol_id_7</th>\n",
       "      <th>symbol_id_8</th>\n",
       "      <th>symbol_id_9</th>\n",
       "    </tr>\n",
       "  </thead>\n",
       "  <tbody>\n",
       "    <tr>\n",
       "      <th>0</th>\n",
       "      <td>False</td>\n",
       "      <td>True</td>\n",
       "      <td>False</td>\n",
       "      <td>False</td>\n",
       "      <td>False</td>\n",
       "      <td>False</td>\n",
       "      <td>False</td>\n",
       "    </tr>\n",
       "    <tr>\n",
       "      <th>1</th>\n",
       "      <td>False</td>\n",
       "      <td>False</td>\n",
       "      <td>False</td>\n",
       "      <td>False</td>\n",
       "      <td>True</td>\n",
       "      <td>False</td>\n",
       "      <td>False</td>\n",
       "    </tr>\n",
       "    <tr>\n",
       "      <th>2</th>\n",
       "      <td>False</td>\n",
       "      <td>False</td>\n",
       "      <td>False</td>\n",
       "      <td>False</td>\n",
       "      <td>False</td>\n",
       "      <td>False</td>\n",
       "      <td>True</td>\n",
       "    </tr>\n",
       "    <tr>\n",
       "      <th>8</th>\n",
       "      <td>False</td>\n",
       "      <td>True</td>\n",
       "      <td>False</td>\n",
       "      <td>False</td>\n",
       "      <td>False</td>\n",
       "      <td>False</td>\n",
       "      <td>False</td>\n",
       "    </tr>\n",
       "    <tr>\n",
       "      <th>9</th>\n",
       "      <td>False</td>\n",
       "      <td>False</td>\n",
       "      <td>False</td>\n",
       "      <td>False</td>\n",
       "      <td>True</td>\n",
       "      <td>False</td>\n",
       "      <td>False</td>\n",
       "    </tr>\n",
       "  </tbody>\n",
       "</table>\n",
       "</div>"
      ],
      "text/plain": [
       "   symbol_id_0  symbol_id_1  symbol_id_2  symbol_id_3  symbol_id_7  \\\n",
       "0        False         True        False        False        False   \n",
       "1        False        False        False        False         True   \n",
       "2        False        False        False        False        False   \n",
       "8        False         True        False        False        False   \n",
       "9        False        False        False        False         True   \n",
       "\n",
       "   symbol_id_8  symbol_id_9  \n",
       "0        False        False  \n",
       "1        False        False  \n",
       "2        False         True  \n",
       "8        False        False  \n",
       "9        False        False  "
      ]
     },
     "execution_count": 3,
     "metadata": {},
     "output_type": "execute_result"
    }
   ],
   "source": [
    "encoded = pd.get_dummies(df['symbol_id'], prefix='symbol_id')\n",
    "max_symbol_id = df['symbol_id'].max()\n",
    "print(f'This parquet has {max_symbol_id} distinct symbol_ids')\n",
    "encoded.head()"
   ]
  },
  {
   "cell_type": "code",
   "execution_count": 4,
   "id": "0724c0bf",
   "metadata": {
    "execution": {
     "iopub.execute_input": "2024-12-05T03:05:48.594667Z",
     "iopub.status.busy": "2024-12-05T03:05:48.593957Z",
     "iopub.status.idle": "2024-12-05T03:05:48.876018Z",
     "shell.execute_reply": "2024-12-05T03:05:48.875116Z"
    },
    "papermill": {
     "duration": 0.287751,
     "end_time": "2024-12-05T03:05:48.877764",
     "exception": false,
     "start_time": "2024-12-05T03:05:48.590013",
     "status": "completed"
    },
    "tags": []
   },
   "outputs": [
    {
     "data": {
      "text/html": [
       "<div>\n",
       "<style scoped>\n",
       "    .dataframe tbody tr th:only-of-type {\n",
       "        vertical-align: middle;\n",
       "    }\n",
       "\n",
       "    .dataframe tbody tr th {\n",
       "        vertical-align: top;\n",
       "    }\n",
       "\n",
       "    .dataframe thead th {\n",
       "        text-align: right;\n",
       "    }\n",
       "</style>\n",
       "<table border=\"1\" class=\"dataframe\">\n",
       "  <thead>\n",
       "    <tr style=\"text-align: right;\">\n",
       "      <th></th>\n",
       "      <th>date_id</th>\n",
       "      <th>time_id</th>\n",
       "      <th>weight</th>\n",
       "      <th>feature_05</th>\n",
       "      <th>feature_06</th>\n",
       "      <th>feature_07</th>\n",
       "      <th>feature_08</th>\n",
       "      <th>feature_09</th>\n",
       "      <th>feature_10</th>\n",
       "      <th>feature_11</th>\n",
       "      <th>...</th>\n",
       "      <th>responder_6</th>\n",
       "      <th>responder_7</th>\n",
       "      <th>responder_8</th>\n",
       "      <th>symbol_id_0</th>\n",
       "      <th>symbol_id_1</th>\n",
       "      <th>symbol_id_2</th>\n",
       "      <th>symbol_id_3</th>\n",
       "      <th>symbol_id_7</th>\n",
       "      <th>symbol_id_8</th>\n",
       "      <th>symbol_id_9</th>\n",
       "    </tr>\n",
       "  </thead>\n",
       "  <tbody>\n",
       "    <tr>\n",
       "      <th>0</th>\n",
       "      <td>0</td>\n",
       "      <td>0</td>\n",
       "      <td>3.889038</td>\n",
       "      <td>0.944836</td>\n",
       "      <td>0.266733</td>\n",
       "      <td>0.292798</td>\n",
       "      <td>-1.038046</td>\n",
       "      <td>-0.73728</td>\n",
       "      <td>0.912814</td>\n",
       "      <td>-0.528156</td>\n",
       "      <td>...</td>\n",
       "      <td>0.889632</td>\n",
       "      <td>0.389633</td>\n",
       "      <td>0.108072</td>\n",
       "      <td>False</td>\n",
       "      <td>True</td>\n",
       "      <td>False</td>\n",
       "      <td>False</td>\n",
       "      <td>False</td>\n",
       "      <td>False</td>\n",
       "      <td>False</td>\n",
       "    </tr>\n",
       "    <tr>\n",
       "      <th>1</th>\n",
       "      <td>0</td>\n",
       "      <td>0</td>\n",
       "      <td>1.370613</td>\n",
       "      <td>0.761208</td>\n",
       "      <td>0.169433</td>\n",
       "      <td>0.219469</td>\n",
       "      <td>-0.636408</td>\n",
       "      <td>-0.73728</td>\n",
       "      <td>0.912814</td>\n",
       "      <td>-0.528156</td>\n",
       "      <td>...</td>\n",
       "      <td>0.806566</td>\n",
       "      <td>0.243509</td>\n",
       "      <td>0.889930</td>\n",
       "      <td>False</td>\n",
       "      <td>False</td>\n",
       "      <td>False</td>\n",
       "      <td>False</td>\n",
       "      <td>True</td>\n",
       "      <td>False</td>\n",
       "      <td>False</td>\n",
       "    </tr>\n",
       "    <tr>\n",
       "      <th>2</th>\n",
       "      <td>0</td>\n",
       "      <td>0</td>\n",
       "      <td>2.285698</td>\n",
       "      <td>1.161356</td>\n",
       "      <td>0.207122</td>\n",
       "      <td>0.278843</td>\n",
       "      <td>-0.909250</td>\n",
       "      <td>-0.73728</td>\n",
       "      <td>0.912814</td>\n",
       "      <td>-0.528156</td>\n",
       "      <td>...</td>\n",
       "      <td>2.421228</td>\n",
       "      <td>0.752806</td>\n",
       "      <td>0.883280</td>\n",
       "      <td>False</td>\n",
       "      <td>False</td>\n",
       "      <td>False</td>\n",
       "      <td>False</td>\n",
       "      <td>False</td>\n",
       "      <td>False</td>\n",
       "      <td>True</td>\n",
       "    </tr>\n",
       "    <tr>\n",
       "      <th>8</th>\n",
       "      <td>0</td>\n",
       "      <td>1</td>\n",
       "      <td>3.889038</td>\n",
       "      <td>1.015072</td>\n",
       "      <td>-0.422322</td>\n",
       "      <td>0.089218</td>\n",
       "      <td>-0.856497</td>\n",
       "      <td>-0.73728</td>\n",
       "      <td>0.912814</td>\n",
       "      <td>-0.528156</td>\n",
       "      <td>...</td>\n",
       "      <td>0.862059</td>\n",
       "      <td>0.390782</td>\n",
       "      <td>0.046669</td>\n",
       "      <td>False</td>\n",
       "      <td>True</td>\n",
       "      <td>False</td>\n",
       "      <td>False</td>\n",
       "      <td>False</td>\n",
       "      <td>False</td>\n",
       "      <td>False</td>\n",
       "    </tr>\n",
       "    <tr>\n",
       "      <th>9</th>\n",
       "      <td>0</td>\n",
       "      <td>1</td>\n",
       "      <td>1.370613</td>\n",
       "      <td>0.972411</td>\n",
       "      <td>-0.265482</td>\n",
       "      <td>0.069314</td>\n",
       "      <td>-0.801669</td>\n",
       "      <td>-0.73728</td>\n",
       "      <td>0.912814</td>\n",
       "      <td>-0.528156</td>\n",
       "      <td>...</td>\n",
       "      <td>0.728011</td>\n",
       "      <td>0.011494</td>\n",
       "      <td>0.286561</td>\n",
       "      <td>False</td>\n",
       "      <td>False</td>\n",
       "      <td>False</td>\n",
       "      <td>False</td>\n",
       "      <td>True</td>\n",
       "      <td>False</td>\n",
       "      <td>False</td>\n",
       "    </tr>\n",
       "  </tbody>\n",
       "</table>\n",
       "<p>5 rows × 89 columns</p>\n",
       "</div>"
      ],
      "text/plain": [
       "   date_id  time_id    weight  feature_05  feature_06  feature_07  feature_08  \\\n",
       "0        0        0  3.889038    0.944836    0.266733    0.292798   -1.038046   \n",
       "1        0        0  1.370613    0.761208    0.169433    0.219469   -0.636408   \n",
       "2        0        0  2.285698    1.161356    0.207122    0.278843   -0.909250   \n",
       "8        0        1  3.889038    1.015072   -0.422322    0.089218   -0.856497   \n",
       "9        0        1  1.370613    0.972411   -0.265482    0.069314   -0.801669   \n",
       "\n",
       "   feature_09  feature_10  feature_11  ...  responder_6  responder_7  \\\n",
       "0    -0.73728    0.912814   -0.528156  ...     0.889632     0.389633   \n",
       "1    -0.73728    0.912814   -0.528156  ...     0.806566     0.243509   \n",
       "2    -0.73728    0.912814   -0.528156  ...     2.421228     0.752806   \n",
       "8    -0.73728    0.912814   -0.528156  ...     0.862059     0.390782   \n",
       "9    -0.73728    0.912814   -0.528156  ...     0.728011     0.011494   \n",
       "\n",
       "   responder_8  symbol_id_0  symbol_id_1  symbol_id_2  symbol_id_3  \\\n",
       "0     0.108072        False         True        False        False   \n",
       "1     0.889930        False        False        False        False   \n",
       "2     0.883280        False        False        False        False   \n",
       "8     0.046669        False         True        False        False   \n",
       "9     0.286561        False        False        False        False   \n",
       "\n",
       "   symbol_id_7  symbol_id_8  symbol_id_9  \n",
       "0        False        False        False  \n",
       "1         True        False        False  \n",
       "2        False        False         True  \n",
       "8        False        False        False  \n",
       "9         True        False        False  \n",
       "\n",
       "[5 rows x 89 columns]"
      ]
     },
     "execution_count": 4,
     "metadata": {},
     "output_type": "execute_result"
    }
   ],
   "source": [
    "df = pd.concat([df, encoded], axis = 1)\n",
    "df = df.drop(['symbol_id'], axis = 1)\n",
    "df.head()"
   ]
  },
  {
   "cell_type": "code",
   "execution_count": 5,
   "id": "1272889d",
   "metadata": {
    "execution": {
     "iopub.execute_input": "2024-12-05T03:05:48.886793Z",
     "iopub.status.busy": "2024-12-05T03:05:48.886549Z",
     "iopub.status.idle": "2024-12-05T03:06:01.169876Z",
     "shell.execute_reply": "2024-12-05T03:06:01.169142Z"
    },
    "papermill": {
     "duration": 12.289499,
     "end_time": "2024-12-05T03:06:01.171932",
     "exception": false,
     "start_time": "2024-12-05T03:05:48.882433",
     "status": "completed"
    },
    "tags": []
   },
   "outputs": [],
   "source": [
    "df['Split'] = df.apply(split_func_df, axis = 1)\n",
    "df['Split'].value_counts()\n",
    "\n",
    "train_df = df[df.Split == 'Train']\n",
    "val_df = df[df.Split == 'Val']\n",
    "test_df = df[df.Split == 'Test']"
   ]
  },
  {
   "cell_type": "markdown",
   "id": "f2143e44",
   "metadata": {
    "papermill": {
     "duration": 0.003272,
     "end_time": "2024-12-05T03:06:01.178995",
     "exception": false,
     "start_time": "2024-12-05T03:06:01.175723",
     "status": "completed"
    },
    "tags": []
   },
   "source": [
    "# LSTM model testing"
   ]
  },
  {
   "cell_type": "code",
   "execution_count": 6,
   "id": "253e0fe6",
   "metadata": {
    "execution": {
     "iopub.execute_input": "2024-12-05T03:06:01.186867Z",
     "iopub.status.busy": "2024-12-05T03:06:01.186595Z",
     "iopub.status.idle": "2024-12-05T03:06:01.190567Z",
     "shell.execute_reply": "2024-12-05T03:06:01.189722Z"
    },
    "papermill": {
     "duration": 0.009717,
     "end_time": "2024-12-05T03:06:01.192123",
     "exception": false,
     "start_time": "2024-12-05T03:06:01.182406",
     "status": "completed"
    },
    "tags": []
   },
   "outputs": [],
   "source": [
    "features = ['date_id', 'time_id', 'feature_06', 'feature_07', 'feature_05', 'feature_68', 'responder_6']+list(encoded.columns)\n",
    "#features"
   ]
  },
  {
   "cell_type": "code",
   "execution_count": 7,
   "id": "4ec72034",
   "metadata": {
    "execution": {
     "iopub.execute_input": "2024-12-05T03:06:01.199988Z",
     "iopub.status.busy": "2024-12-05T03:06:01.199736Z",
     "iopub.status.idle": "2024-12-05T03:07:17.118241Z",
     "shell.execute_reply": "2024-12-05T03:07:17.117479Z"
    },
    "papermill": {
     "duration": 75.924846,
     "end_time": "2024-12-05T03:07:17.120466",
     "exception": false,
     "start_time": "2024-12-05T03:06:01.195620",
     "status": "completed"
    },
    "tags": []
   },
   "outputs": [],
   "source": [
    "import numpy as np\n",
    "def create_sequences(data, sequence_length):\n",
    "    X, y = [], []\n",
    "    for i in range(len(data) - sequence_length):\n",
    "        seq = data[i:i+sequence_length]\n",
    "        target = data['responder_6'].iloc[i+sequence_length]\n",
    "        X.append(seq)\n",
    "        y.append(target)\n",
    "    return np.array(X), np.array(y)\n",
    "\n",
    "# Create sequences\n",
    "#features = ['date_id', 'time_id', 'feature_06', 'feature_07', 'feature_05', 'feature_68', 'symbol_id', 'responder_6']\n",
    "X_train, y_train = create_sequences(train_df[features], sequence_length=50)\n",
    "X_val, y_val = create_sequences(val_df[features], sequence_length=50)"
   ]
  },
  {
   "cell_type": "code",
   "execution_count": 8,
   "id": "ebd9f3da",
   "metadata": {
    "execution": {
     "iopub.execute_input": "2024-12-05T03:07:17.128975Z",
     "iopub.status.busy": "2024-12-05T03:07:17.128700Z",
     "iopub.status.idle": "2024-12-05T03:07:28.998065Z",
     "shell.execute_reply": "2024-12-05T03:07:28.997336Z"
    },
    "papermill": {
     "duration": 11.875293,
     "end_time": "2024-12-05T03:07:28.999666",
     "exception": false,
     "start_time": "2024-12-05T03:07:17.124373",
     "status": "completed"
    },
    "tags": []
   },
   "outputs": [
    {
     "name": "stderr",
     "output_type": "stream",
     "text": [
      "/opt/conda/lib/python3.10/site-packages/keras/src/layers/rnn/rnn.py:204: UserWarning: Do not pass an `input_shape`/`input_dim` argument to a layer. When using Sequential models, prefer using an `Input(shape)` object as the first layer in the model instead.\n",
      "  super().__init__(**kwargs)\n"
     ]
    },
    {
     "data": {
      "text/html": [
       "<pre style=\"white-space:pre;overflow-x:auto;line-height:normal;font-family:Menlo,'DejaVu Sans Mono',consolas,'Courier New',monospace\"><span style=\"font-weight: bold\">Model: \"sequential\"</span>\n",
       "</pre>\n"
      ],
      "text/plain": [
       "\u001b[1mModel: \"sequential\"\u001b[0m\n"
      ]
     },
     "metadata": {},
     "output_type": "display_data"
    },
    {
     "data": {
      "text/html": [
       "<pre style=\"white-space:pre;overflow-x:auto;line-height:normal;font-family:Menlo,'DejaVu Sans Mono',consolas,'Courier New',monospace\">┏━━━━━━━━━━━━━━━━━━━━━━━━━━━━━━━━━┳━━━━━━━━━━━━━━━━━━━━━━━━┳━━━━━━━━━━━━━━━┓\n",
       "┃<span style=\"font-weight: bold\"> Layer (type)                    </span>┃<span style=\"font-weight: bold\"> Output Shape           </span>┃<span style=\"font-weight: bold\">       Param # </span>┃\n",
       "┡━━━━━━━━━━━━━━━━━━━━━━━━━━━━━━━━━╇━━━━━━━━━━━━━━━━━━━━━━━━╇━━━━━━━━━━━━━━━┩\n",
       "│ lstm (<span style=\"color: #0087ff; text-decoration-color: #0087ff\">LSTM</span>)                     │ (<span style=\"color: #00d7ff; text-decoration-color: #00d7ff\">None</span>, <span style=\"color: #00af00; text-decoration-color: #00af00\">50</span>, <span style=\"color: #00af00; text-decoration-color: #00af00\">64</span>)         │        <span style=\"color: #00af00; text-decoration-color: #00af00\">20,224</span> │\n",
       "├─────────────────────────────────┼────────────────────────┼───────────────┤\n",
       "│ dropout (<span style=\"color: #0087ff; text-decoration-color: #0087ff\">Dropout</span>)               │ (<span style=\"color: #00d7ff; text-decoration-color: #00d7ff\">None</span>, <span style=\"color: #00af00; text-decoration-color: #00af00\">50</span>, <span style=\"color: #00af00; text-decoration-color: #00af00\">64</span>)         │             <span style=\"color: #00af00; text-decoration-color: #00af00\">0</span> │\n",
       "├─────────────────────────────────┼────────────────────────┼───────────────┤\n",
       "│ lstm_1 (<span style=\"color: #0087ff; text-decoration-color: #0087ff\">LSTM</span>)                   │ (<span style=\"color: #00d7ff; text-decoration-color: #00d7ff\">None</span>, <span style=\"color: #00af00; text-decoration-color: #00af00\">32</span>)             │        <span style=\"color: #00af00; text-decoration-color: #00af00\">12,416</span> │\n",
       "├─────────────────────────────────┼────────────────────────┼───────────────┤\n",
       "│ dropout_1 (<span style=\"color: #0087ff; text-decoration-color: #0087ff\">Dropout</span>)             │ (<span style=\"color: #00d7ff; text-decoration-color: #00d7ff\">None</span>, <span style=\"color: #00af00; text-decoration-color: #00af00\">32</span>)             │             <span style=\"color: #00af00; text-decoration-color: #00af00\">0</span> │\n",
       "├─────────────────────────────────┼────────────────────────┼───────────────┤\n",
       "│ dense (<span style=\"color: #0087ff; text-decoration-color: #0087ff\">Dense</span>)                   │ (<span style=\"color: #00d7ff; text-decoration-color: #00d7ff\">None</span>, <span style=\"color: #00af00; text-decoration-color: #00af00\">1</span>)              │            <span style=\"color: #00af00; text-decoration-color: #00af00\">33</span> │\n",
       "└─────────────────────────────────┴────────────────────────┴───────────────┘\n",
       "</pre>\n"
      ],
      "text/plain": [
       "┏━━━━━━━━━━━━━━━━━━━━━━━━━━━━━━━━━┳━━━━━━━━━━━━━━━━━━━━━━━━┳━━━━━━━━━━━━━━━┓\n",
       "┃\u001b[1m \u001b[0m\u001b[1mLayer (type)                   \u001b[0m\u001b[1m \u001b[0m┃\u001b[1m \u001b[0m\u001b[1mOutput Shape          \u001b[0m\u001b[1m \u001b[0m┃\u001b[1m \u001b[0m\u001b[1m      Param #\u001b[0m\u001b[1m \u001b[0m┃\n",
       "┡━━━━━━━━━━━━━━━━━━━━━━━━━━━━━━━━━╇━━━━━━━━━━━━━━━━━━━━━━━━╇━━━━━━━━━━━━━━━┩\n",
       "│ lstm (\u001b[38;5;33mLSTM\u001b[0m)                     │ (\u001b[38;5;45mNone\u001b[0m, \u001b[38;5;34m50\u001b[0m, \u001b[38;5;34m64\u001b[0m)         │        \u001b[38;5;34m20,224\u001b[0m │\n",
       "├─────────────────────────────────┼────────────────────────┼───────────────┤\n",
       "│ dropout (\u001b[38;5;33mDropout\u001b[0m)               │ (\u001b[38;5;45mNone\u001b[0m, \u001b[38;5;34m50\u001b[0m, \u001b[38;5;34m64\u001b[0m)         │             \u001b[38;5;34m0\u001b[0m │\n",
       "├─────────────────────────────────┼────────────────────────┼───────────────┤\n",
       "│ lstm_1 (\u001b[38;5;33mLSTM\u001b[0m)                   │ (\u001b[38;5;45mNone\u001b[0m, \u001b[38;5;34m32\u001b[0m)             │        \u001b[38;5;34m12,416\u001b[0m │\n",
       "├─────────────────────────────────┼────────────────────────┼───────────────┤\n",
       "│ dropout_1 (\u001b[38;5;33mDropout\u001b[0m)             │ (\u001b[38;5;45mNone\u001b[0m, \u001b[38;5;34m32\u001b[0m)             │             \u001b[38;5;34m0\u001b[0m │\n",
       "├─────────────────────────────────┼────────────────────────┼───────────────┤\n",
       "│ dense (\u001b[38;5;33mDense\u001b[0m)                   │ (\u001b[38;5;45mNone\u001b[0m, \u001b[38;5;34m1\u001b[0m)              │            \u001b[38;5;34m33\u001b[0m │\n",
       "└─────────────────────────────────┴────────────────────────┴───────────────┘\n"
      ]
     },
     "metadata": {},
     "output_type": "display_data"
    },
    {
     "data": {
      "text/html": [
       "<pre style=\"white-space:pre;overflow-x:auto;line-height:normal;font-family:Menlo,'DejaVu Sans Mono',consolas,'Courier New',monospace\"><span style=\"font-weight: bold\"> Total params: </span><span style=\"color: #00af00; text-decoration-color: #00af00\">32,673</span> (127.63 KB)\n",
       "</pre>\n"
      ],
      "text/plain": [
       "\u001b[1m Total params: \u001b[0m\u001b[38;5;34m32,673\u001b[0m (127.63 KB)\n"
      ]
     },
     "metadata": {},
     "output_type": "display_data"
    },
    {
     "data": {
      "text/html": [
       "<pre style=\"white-space:pre;overflow-x:auto;line-height:normal;font-family:Menlo,'DejaVu Sans Mono',consolas,'Courier New',monospace\"><span style=\"font-weight: bold\"> Trainable params: </span><span style=\"color: #00af00; text-decoration-color: #00af00\">32,673</span> (127.63 KB)\n",
       "</pre>\n"
      ],
      "text/plain": [
       "\u001b[1m Trainable params: \u001b[0m\u001b[38;5;34m32,673\u001b[0m (127.63 KB)\n"
      ]
     },
     "metadata": {},
     "output_type": "display_data"
    },
    {
     "data": {
      "text/html": [
       "<pre style=\"white-space:pre;overflow-x:auto;line-height:normal;font-family:Menlo,'DejaVu Sans Mono',consolas,'Courier New',monospace\"><span style=\"font-weight: bold\"> Non-trainable params: </span><span style=\"color: #00af00; text-decoration-color: #00af00\">0</span> (0.00 B)\n",
       "</pre>\n"
      ],
      "text/plain": [
       "\u001b[1m Non-trainable params: \u001b[0m\u001b[38;5;34m0\u001b[0m (0.00 B)\n"
      ]
     },
     "metadata": {},
     "output_type": "display_data"
    }
   ],
   "source": [
    "# from tensorflow.keras.models import Sequential\n",
    "# from tensorflow.keras.layers import LSTM, Dense\n",
    "\n",
    "# model = Sequential()\n",
    "# model.add(LSTM(50, activation='relu', input_shape=(window_size, num_features)))\n",
    "# model.add(Dense(1))  # Predicting a single value\n",
    "# model.compile(optimizer='adam', loss='mse')\n",
    "# model.fit(X_train, y_train, epochs=50, batch_size=32)\n",
    "\n",
    "import tensorflow as tf\n",
    "from tensorflow.keras.models import Sequential\n",
    "from tensorflow.keras.layers import LSTM, Dense, Dropout\n",
    "from tensorflow.keras.mixed_precision import set_global_policy\n",
    "from tensorflow.keras.callbacks import TensorBoard\n",
    "\n",
    "# # Enable mixed precision\n",
    "# set_global_policy('mixed_float16')\n",
    "\n",
    "# # Enable XLA optimization\n",
    "# tf.config.optimizer.set_jit(True)\n",
    "\n",
    "# Define the model\n",
    "model = Sequential([\n",
    "    LSTM(64, activation='tanh', return_sequences=True, input_shape=(X_train.shape[1], X_train.shape[2])),\n",
    "    Dropout(0.2),\n",
    "    LSTM(32, activation='tanh'),\n",
    "    Dropout(0.2),\n",
    "    Dense(1)  # Output layer for regression\n",
    "])\n",
    "\n",
    "# Compile the model\n",
    "model.compile(optimizer='adam', loss='mse', metrics=['mae'])\n",
    "model.summary()"
   ]
  },
  {
   "cell_type": "code",
   "execution_count": 9,
   "id": "048bd951",
   "metadata": {
    "execution": {
     "iopub.execute_input": "2024-12-05T03:07:29.009200Z",
     "iopub.status.busy": "2024-12-05T03:07:29.008729Z",
     "iopub.status.idle": "2024-12-05T03:20:15.658102Z",
     "shell.execute_reply": "2024-12-05T03:20:15.657237Z"
    },
    "papermill": {
     "duration": 766.657283,
     "end_time": "2024-12-05T03:20:15.661055",
     "exception": false,
     "start_time": "2024-12-05T03:07:29.003772",
     "status": "completed"
    },
    "tags": []
   },
   "outputs": [
    {
     "name": "stdout",
     "output_type": "stream",
     "text": [
      "Epoch 1/20\n",
      "\u001b[1m3807/3807\u001b[0m \u001b[32m━━━━━━━━━━━━━━━━━━━━\u001b[0m\u001b[37m\u001b[0m \u001b[1m44s\u001b[0m 10ms/step - loss: 0.7617 - mae: 0.5746 - val_loss: 0.9018 - val_mae: 0.6309\n",
      "Epoch 2/20\n",
      "\u001b[1m3807/3807\u001b[0m \u001b[32m━━━━━━━━━━━━━━━━━━━━\u001b[0m\u001b[37m\u001b[0m \u001b[1m37s\u001b[0m 10ms/step - loss: 0.7429 - mae: 0.5638 - val_loss: 0.9016 - val_mae: 0.6307\n",
      "Epoch 3/20\n",
      "\u001b[1m3807/3807\u001b[0m \u001b[32m━━━━━━━━━━━━━━━━━━━━\u001b[0m\u001b[37m\u001b[0m \u001b[1m36s\u001b[0m 10ms/step - loss: 0.7420 - mae: 0.5636 - val_loss: 0.9005 - val_mae: 0.6305\n",
      "Epoch 4/20\n",
      "\u001b[1m3807/3807\u001b[0m \u001b[32m━━━━━━━━━━━━━━━━━━━━\u001b[0m\u001b[37m\u001b[0m \u001b[1m37s\u001b[0m 10ms/step - loss: 0.7389 - mae: 0.5631 - val_loss: 0.8973 - val_mae: 0.6295\n",
      "Epoch 5/20\n",
      "\u001b[1m3807/3807\u001b[0m \u001b[32m━━━━━━━━━━━━━━━━━━━━\u001b[0m\u001b[37m\u001b[0m \u001b[1m37s\u001b[0m 10ms/step - loss: 0.6896 - mae: 0.5519 - val_loss: 0.6713 - val_mae: 0.5525\n",
      "Epoch 6/20\n",
      "\u001b[1m3807/3807\u001b[0m \u001b[32m━━━━━━━━━━━━━━━━━━━━\u001b[0m\u001b[37m\u001b[0m \u001b[1m37s\u001b[0m 10ms/step - loss: 0.5751 - mae: 0.5071 - val_loss: 0.6257 - val_mae: 0.5406\n",
      "Epoch 7/20\n",
      "\u001b[1m3807/3807\u001b[0m \u001b[32m━━━━━━━━━━━━━━━━━━━━\u001b[0m\u001b[37m\u001b[0m \u001b[1m37s\u001b[0m 10ms/step - loss: 0.5208 - mae: 0.4845 - val_loss: 0.5700 - val_mae: 0.5240\n",
      "Epoch 8/20\n",
      "\u001b[1m3807/3807\u001b[0m \u001b[32m━━━━━━━━━━━━━━━━━━━━\u001b[0m\u001b[37m\u001b[0m \u001b[1m37s\u001b[0m 10ms/step - loss: 0.4936 - mae: 0.4709 - val_loss: 0.5232 - val_mae: 0.5007\n",
      "Epoch 9/20\n",
      "\u001b[1m3807/3807\u001b[0m \u001b[32m━━━━━━━━━━━━━━━━━━━━\u001b[0m\u001b[37m\u001b[0m \u001b[1m37s\u001b[0m 10ms/step - loss: 0.4658 - mae: 0.4581 - val_loss: 0.5021 - val_mae: 0.4898\n",
      "Epoch 10/20\n",
      "\u001b[1m3807/3807\u001b[0m \u001b[32m━━━━━━━━━━━━━━━━━━━━\u001b[0m\u001b[37m\u001b[0m \u001b[1m37s\u001b[0m 10ms/step - loss: 0.4244 - mae: 0.4382 - val_loss: 0.4943 - val_mae: 0.4788\n",
      "Epoch 11/20\n",
      "\u001b[1m3807/3807\u001b[0m \u001b[32m━━━━━━━━━━━━━━━━━━━━\u001b[0m\u001b[37m\u001b[0m \u001b[1m37s\u001b[0m 10ms/step - loss: 0.3842 - mae: 0.4148 - val_loss: 0.4520 - val_mae: 0.4663\n",
      "Epoch 12/20\n",
      "\u001b[1m3807/3807\u001b[0m \u001b[32m━━━━━━━━━━━━━━━━━━━━\u001b[0m\u001b[37m\u001b[0m \u001b[1m37s\u001b[0m 10ms/step - loss: 0.4253 - mae: 0.4374 - val_loss: 0.4219 - val_mae: 0.4451\n",
      "Epoch 13/20\n",
      "\u001b[1m3807/3807\u001b[0m \u001b[32m━━━━━━━━━━━━━━━━━━━━\u001b[0m\u001b[37m\u001b[0m \u001b[1m37s\u001b[0m 10ms/step - loss: 0.3544 - mae: 0.4017 - val_loss: 0.4355 - val_mae: 0.4532\n",
      "Epoch 14/20\n",
      "\u001b[1m3807/3807\u001b[0m \u001b[32m━━━━━━━━━━━━━━━━━━━━\u001b[0m\u001b[37m\u001b[0m \u001b[1m37s\u001b[0m 10ms/step - loss: 0.3849 - mae: 0.4170 - val_loss: 0.4284 - val_mae: 0.4501\n",
      "Epoch 15/20\n",
      "\u001b[1m3807/3807\u001b[0m \u001b[32m━━━━━━━━━━━━━━━━━━━━\u001b[0m\u001b[37m\u001b[0m \u001b[1m37s\u001b[0m 10ms/step - loss: 0.3308 - mae: 0.3877 - val_loss: 0.4156 - val_mae: 0.4471\n",
      "Epoch 16/20\n",
      "\u001b[1m3807/3807\u001b[0m \u001b[32m━━━━━━━━━━━━━━━━━━━━\u001b[0m\u001b[37m\u001b[0m \u001b[1m37s\u001b[0m 10ms/step - loss: 0.3169 - mae: 0.3782 - val_loss: 0.4469 - val_mae: 0.4493\n",
      "Epoch 17/20\n",
      "\u001b[1m3807/3807\u001b[0m \u001b[32m━━━━━━━━━━━━━━━━━━━━\u001b[0m\u001b[37m\u001b[0m \u001b[1m37s\u001b[0m 10ms/step - loss: 0.3211 - mae: 0.3796 - val_loss: 0.4151 - val_mae: 0.4490\n",
      "Epoch 18/20\n",
      "\u001b[1m3807/3807\u001b[0m \u001b[32m━━━━━━━━━━━━━━━━━━━━\u001b[0m\u001b[37m\u001b[0m \u001b[1m37s\u001b[0m 10ms/step - loss: 0.3227 - mae: 0.3790 - val_loss: 0.3854 - val_mae: 0.4278\n",
      "Epoch 19/20\n",
      "\u001b[1m3807/3807\u001b[0m \u001b[32m━━━━━━━━━━━━━━━━━━━━\u001b[0m\u001b[37m\u001b[0m \u001b[1m37s\u001b[0m 10ms/step - loss: 0.3890 - mae: 0.4197 - val_loss: 0.5709 - val_mae: 0.5241\n",
      "Epoch 20/20\n",
      "\u001b[1m3807/3807\u001b[0m \u001b[32m━━━━━━━━━━━━━━━━━━━━\u001b[0m\u001b[37m\u001b[0m \u001b[1m37s\u001b[0m 10ms/step - loss: 0.4664 - mae: 0.4617 - val_loss: 0.5028 - val_mae: 0.4925\n"
     ]
    }
   ],
   "source": [
    "\n",
    "\n",
    "# Create TensorFlow datasets\n",
    "batch_size = 128  # Adjust for optimal GPU utilization\n",
    "train_data = tf.data.Dataset.from_tensor_slices((X_train.astype('float'), y_train.astype('float'))).batch(batch_size).prefetch(tf.data.AUTOTUNE)\n",
    "val_data = tf.data.Dataset.from_tensor_slices((X_val.astype('float'), y_val.astype('float'))).batch(batch_size).prefetch(tf.data.AUTOTUNE)\n",
    "\n",
    "# TensorBoard callback with profiling\n",
    "tensorboard_cb = TensorBoard(log_dir=\"./logs\", profile_batch='2,10')\n",
    "\n",
    "# Train the model\n",
    "history = model.fit(\n",
    "    train_data,\n",
    "    validation_data=val_data,\n",
    "    epochs=20,\n",
    "    verbose=1,\n",
    "    callbacks=[tensorboard_cb]\n",
    ")\n"
   ]
  },
  {
   "cell_type": "code",
   "execution_count": 10,
   "id": "b1a235c9",
   "metadata": {
    "execution": {
     "iopub.execute_input": "2024-12-05T03:20:16.894267Z",
     "iopub.status.busy": "2024-12-05T03:20:16.893902Z",
     "iopub.status.idle": "2024-12-05T03:20:16.931839Z",
     "shell.execute_reply": "2024-12-05T03:20:16.931223Z"
    },
    "papermill": {
     "duration": 0.62581,
     "end_time": "2024-12-05T03:20:16.933810",
     "exception": false,
     "start_time": "2024-12-05T03:20:16.308000",
     "status": "completed"
    },
    "tags": []
   },
   "outputs": [],
   "source": [
    "model.save('model.h5')"
   ]
  },
  {
   "cell_type": "code",
   "execution_count": 11,
   "id": "67187db9",
   "metadata": {
    "execution": {
     "iopub.execute_input": "2024-12-05T03:20:18.132998Z",
     "iopub.status.busy": "2024-12-05T03:20:18.132650Z",
     "iopub.status.idle": "2024-12-05T03:20:47.729947Z",
     "shell.execute_reply": "2024-12-05T03:20:47.729026Z"
    },
    "papermill": {
     "duration": 30.182484,
     "end_time": "2024-12-05T03:20:47.731768",
     "exception": false,
     "start_time": "2024-12-05T03:20:17.549284",
     "status": "completed"
    },
    "tags": []
   },
   "outputs": [
    {
     "name": "stdout",
     "output_type": "stream",
     "text": [
      "\u001b[1m1207/1207\u001b[0m \u001b[32m━━━━━━━━━━━━━━━━━━━━\u001b[0m\u001b[37m\u001b[0m \u001b[1m5s\u001b[0m 4ms/step - loss: 0.7035 - mae: 0.5776\n"
     ]
    }
   ],
   "source": [
    "X_test, y_test = create_sequences(test_df[features], sequence_length=50)\n",
    "test_data = tf.data.Dataset.from_tensor_slices((X_test.astype('float'), y_test.astype('float'))).batch(batch_size).prefetch(tf.data.AUTOTUNE)\n",
    "result = model.evaluate(test_data)"
   ]
  },
  {
   "cell_type": "code",
   "execution_count": 12,
   "id": "fa657b37",
   "metadata": {
    "execution": {
     "iopub.execute_input": "2024-12-05T03:20:48.985333Z",
     "iopub.status.busy": "2024-12-05T03:20:48.984479Z",
     "iopub.status.idle": "2024-12-05T03:20:48.996772Z",
     "shell.execute_reply": "2024-12-05T03:20:48.995789Z"
    },
    "papermill": {
     "duration": 0.6539,
     "end_time": "2024-12-05T03:20:48.998482",
     "exception": false,
     "start_time": "2024-12-05T03:20:48.344582",
     "status": "completed"
    },
    "tags": []
   },
   "outputs": [
    {
     "name": "stdout",
     "output_type": "stream",
     "text": [
      "221\n"
     ]
    }
   ],
   "source": [
    "s_0 = test_df[test_df.symbol_id_0 == 1]\n",
    "len(s_0)\n",
    "sample_df = s_0.iloc[::100]\n",
    "print(len(sample_df))"
   ]
  },
  {
   "cell_type": "code",
   "execution_count": 13,
   "id": "7973dd3f",
   "metadata": {
    "execution": {
     "iopub.execute_input": "2024-12-05T03:20:50.214559Z",
     "iopub.status.busy": "2024-12-05T03:20:50.214156Z",
     "iopub.status.idle": "2024-12-05T03:20:50.273442Z",
     "shell.execute_reply": "2024-12-05T03:20:50.272745Z"
    },
    "papermill": {
     "duration": 0.686765,
     "end_time": "2024-12-05T03:20:50.275090",
     "exception": false,
     "start_time": "2024-12-05T03:20:49.588325",
     "status": "completed"
    },
    "tags": []
   },
   "outputs": [],
   "source": [
    "X_s, y_s = create_sequences(sample_df[features], sequence_length=50)\n",
    "sample_data = tf.data.Dataset.from_tensor_slices((X_s.astype('float'))).batch(batch_size).prefetch(tf.data.AUTOTUNE)"
   ]
  },
  {
   "cell_type": "code",
   "execution_count": 14,
   "id": "8dfd10d6",
   "metadata": {
    "execution": {
     "iopub.execute_input": "2024-12-05T03:20:51.487666Z",
     "iopub.status.busy": "2024-12-05T03:20:51.486661Z",
     "iopub.status.idle": "2024-12-05T03:20:52.092905Z",
     "shell.execute_reply": "2024-12-05T03:20:52.092080Z"
    },
    "papermill": {
     "duration": 1.23578,
     "end_time": "2024-12-05T03:20:52.095509",
     "exception": false,
     "start_time": "2024-12-05T03:20:50.859729",
     "status": "completed"
    },
    "tags": []
   },
   "outputs": [
    {
     "name": "stdout",
     "output_type": "stream",
     "text": [
      "\u001b[1m2/2\u001b[0m \u001b[32m━━━━━━━━━━━━━━━━━━━━\u001b[0m\u001b[37m\u001b[0m \u001b[1m0s\u001b[0m 149ms/step\n"
     ]
    },
    {
     "data": {
      "image/png": "[encoded data removed]",
      "text/plain": [
       "<Figure size 1000x600 with 1 Axes>"
      ]
     },
     "metadata": {},
     "output_type": "display_data"
    }
   ],
   "source": [
    "import matplotlib.pyplot as plt\n",
    "\n",
    "# Get the data for responder_6 in the test set\n",
    "responder_6_predictions = model.predict(sample_data)\n",
    "responder_6_actual_values = y_s\n",
    "# Plot the actual vs predicted values\n",
    "plt.figure(figsize=(10, 6))  # Adjust figure size as needed \n",
    "plt.plot(range(len(responder_6_actual_values)), responder_6_actual_values, label='Actual Values')\n",
    "plt.plot(range(len(responder_6_predictions.squeeze())), responder_6_predictions.squeeze(), label='Predicted Values')  # Squeeze to remove extra dimension\n",
    "plt.xlabel('Time Step')\n",
    "plt.ylabel('Values')\n",
    "plt.title(f'Responder 6 - Actual vs Predicted Values')\n",
    "plt.legend()\n",
    "plt.grid(True)\n",
    "plt.show()"
   ]
  },
  {
   "cell_type": "code",
   "execution_count": null,
   "id": "513d0530",
   "metadata": {
    "papermill": {
     "duration": 0.626054,
     "end_time": "2024-12-05T03:20:53.339318",
     "exception": false,
     "start_time": "2024-12-05T03:20:52.713264",
     "status": "completed"
    },
    "tags": []
   },
   "outputs": [],
   "source": []
  }
 ],
 "metadata": {
  "kaggle": {
   "accelerator": "gpu",
   "dataSources": [
    {
     "databundleVersionId": 9871156,
     "sourceId": 84493,
     "sourceType": "competition"
    }
   ],
   "dockerImageVersionId": 30805,
   "isGpuEnabled": true,
   "isInternetEnabled": true,
   "language": "python",
   "sourceType": "notebook"
  },
  "kernelspec": {
   "display_name": "Python 3",
   "language": "python",
   "name": "python3"
  },
  "language_info": {
   "codemirror_mode": {
    "name": "ipython",
    "version": 3
   },
   "file_extension": ".py",
   "mimetype": "text/x-python",
   "name": "python",
   "nbconvert_exporter": "python",
   "pygments_lexer": "ipython3",
   "version": "3.10.14"
  },
  "papermill": {
   "default_parameters": {},
   "duration": 933.094964,
   "end_time": "2024-12-05T03:20:58.088883",
   "environment_variables": {},
   "exception": null,
   "input_path": "__notebook__.ipynb",
   "output_path": "__notebook__.ipynb",
   "parameters": {},
   "start_time": "2024-12-05T03:05:24.993919",
   "version": "2.6.0"
  }
 },
 "nbformat": 4,
 "nbformat_minor": 5
}
