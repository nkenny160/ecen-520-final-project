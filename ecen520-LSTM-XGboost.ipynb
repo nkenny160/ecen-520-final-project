{
 "cells": [
  {
   "cell_type": "markdown",
   "id": "dcf24452",
   "metadata": {
    "papermill": {
     "duration": 0.005633,
     "end_time": "2024-12-06T08:02:58.657407",
     "exception": false,
     "start_time": "2024-12-06T08:02:58.651774",
     "status": "completed"
    },
    "tags": []
   },
   "source": [
    "# ECEN 520 Final Project - XGboost + LSTM implementation\n",
    "## Download the data to begin processing steps"
   ]
  },
  {
   "cell_type": "code",
   "execution_count": 1,
   "id": "bfc86d22",
   "metadata": {
    "execution": {
     "iopub.execute_input": "2024-12-06T08:02:58.670174Z",
     "iopub.status.busy": "2024-12-06T08:02:58.669336Z",
     "iopub.status.idle": "2024-12-06T08:03:05.401139Z",
     "shell.execute_reply": "2024-12-06T08:03:05.400196Z"
    },
    "papermill": {
     "duration": 6.740712,
     "end_time": "2024-12-06T08:03:05.403254",
     "exception": false,
     "start_time": "2024-12-06T08:02:58.662542",
     "status": "completed"
    },
    "tags": []
   },
   "outputs": [],
   "source": [
    "import pandas as pd\n",
    "import polars as pl\n",
    "\n",
    "df = pd.read_parquet(\"/kaggle/input/jane-street-real-time-market-data-forecasting/train.parquet/partition_id=0/part-0.parquet\")\n",
    "df_pl = pl.read_parquet(\"/kaggle/input/jane-street-real-time-market-data-forecasting/train.parquet/partition_id=0/part-0.parquet\")"
   ]
  },
  {
   "cell_type": "markdown",
   "id": "ca5ccd67",
   "metadata": {
    "papermill": {
     "duration": 0.004522,
     "end_time": "2024-12-06T08:03:05.412830",
     "exception": false,
     "start_time": "2024-12-06T08:03:05.408308",
     "status": "completed"
    },
    "tags": []
   },
   "source": [
    "## There are a lot of partially or fully empty columns in each parquet so we need to identify these as the first step of preprocessing"
   ]
  },
  {
   "cell_type": "code",
   "execution_count": 2,
   "id": "8a6a9a7a",
   "metadata": {
    "execution": {
     "iopub.execute_input": "2024-12-06T08:03:05.423458Z",
     "iopub.status.busy": "2024-12-06T08:03:05.422921Z",
     "iopub.status.idle": "2024-12-06T08:03:05.470985Z",
     "shell.execute_reply": "2024-12-06T08:03:05.470108Z"
    },
    "papermill": {
     "duration": 0.055201,
     "end_time": "2024-12-06T08:03:05.472685",
     "exception": false,
     "start_time": "2024-12-06T08:03:05.417484",
     "status": "completed"
    },
    "tags": []
   },
   "outputs": [],
   "source": [
    "# Three Cases\n",
    "# 1. Fully Empty columns : we can just drop them\n",
    "# 2. Partially Empty Columns: we can impute them\n",
    "# 3. Full Columns : No imputation necessary\n",
    "\n",
    "empty_columns = []\n",
    "fully_filled_columns = []\n",
    "partially_empty_columns = []\n",
    "\n",
    "for feature in df_pl.columns:\n",
    "    # Count empty and non-empty rows\n",
    "    empty_rows = df_pl[feature].is_null().sum()\n",
    "    nonempty_rows = len(df_pl[feature]) - empty_rows\n",
    "\n",
    "    # Classify the columns based on the counts\n",
    "    if nonempty_rows == 0:\n",
    "        empty_columns.append(feature)\n",
    "    elif empty_rows == 0:\n",
    "        fully_filled_columns.append(feature)\n",
    "    else:\n",
    "        partially_empty_columns.append(feature)\n",
    "\n",
    "# We don't use df_pl again, so delete it to conserve memory\n",
    "del df_pl"
   ]
  },
  {
   "cell_type": "markdown",
   "id": "17653263",
   "metadata": {
    "papermill": {
     "duration": 0.004457,
     "end_time": "2024-12-06T08:03:05.481861",
     "exception": false,
     "start_time": "2024-12-06T08:03:05.477404",
     "status": "completed"
    },
    "tags": []
   },
   "source": [
    "## Next we drop the empty columns, sort the values by time, fill columns which are partially empty, and organize the columns into different groupings."
   ]
  },
  {
   "cell_type": "code",
   "execution_count": 3,
   "id": "a86e8230",
   "metadata": {
    "execution": {
     "iopub.execute_input": "2024-12-06T08:03:05.495098Z",
     "iopub.status.busy": "2024-12-06T08:03:05.494834Z",
     "iopub.status.idle": "2024-12-06T08:03:15.779420Z",
     "shell.execute_reply": "2024-12-06T08:03:15.778372Z"
    },
    "papermill": {
     "duration": 10.293787,
     "end_time": "2024-12-06T08:03:15.781745",
     "exception": false,
     "start_time": "2024-12-06T08:03:05.487958",
     "status": "completed"
    },
    "tags": []
   },
   "outputs": [],
   "source": [
    "# drop empty columns using imputer\n",
    "df = df.drop(empty_columns, axis = 1)\n",
    "\n",
    "# Fill in partially empty columns\n",
    "for feature in partially_empty_columns:\n",
    "    df[feature] = df.groupby('symbol_id')[feature].transform(lambda x: x.ffill().bfill())\n",
    "\n",
    "# Split data temporally - in partition0 there are 170 days and 849 unique time ids per day\n",
    "df = df.sort_values(['date_id', 'time_id'])\n",
    "date_counts = df.date_id.value_counts()\n",
    "date_counts = pd.DataFrame(date_counts.sort_index())\n",
    "date_counts['cumulative_sum'] = date_counts['count'].cumsum()\n",
    "\n",
    "# Organize columns into different groups\n",
    "TIME_FEATURES = ['relative_timestamp']\n",
    "MARKET_FEATURES = [f'feature_{i:02}' for i in range(0,79) if f'feature_{i:02}' in df.columns]\n",
    "RESPONDER_FEATURES = [f'responder_{i}' for i in range(0,9) if f'responder_{i}' in df.columns]\n",
    "SYMBOL_FEATURES = ['symbol_id']"
   ]
  },
  {
   "cell_type": "markdown",
   "id": "6eeadbac",
   "metadata": {
    "papermill": {
     "duration": 0.005353,
     "end_time": "2024-12-06T08:03:15.792656",
     "exception": false,
     "start_time": "2024-12-06T08:03:15.787303",
     "status": "completed"
    },
    "tags": []
   },
   "source": [
    "## Normalize all the responders and feature using standard scaler. \n",
    "\n",
    "This is a little dicey because we don't know whether or not the features are already normalized, but this is a risk we are willing to take."
   ]
  },
  {
   "cell_type": "code",
   "execution_count": 4,
   "id": "f5379993",
   "metadata": {
    "execution": {
     "iopub.execute_input": "2024-12-06T08:03:15.803212Z",
     "iopub.status.busy": "2024-12-06T08:03:15.802941Z",
     "iopub.status.idle": "2024-12-06T08:03:19.567012Z",
     "shell.execute_reply": "2024-12-06T08:03:19.566291Z"
    },
    "papermill": {
     "duration": 3.771611,
     "end_time": "2024-12-06T08:03:19.568987",
     "exception": false,
     "start_time": "2024-12-06T08:03:15.797376",
     "status": "completed"
    },
    "tags": []
   },
   "outputs": [],
   "source": [
    "# Normalize Data\n",
    "from sklearn.preprocessing import StandardScaler\n",
    "scaler = StandardScaler()\n",
    "cols_to_normalize = MARKET_FEATURES + RESPONDER_FEATURES\n",
    "df[cols_to_normalize] = scaler.fit_transform(df[cols_to_normalize])"
   ]
  },
  {
   "cell_type": "markdown",
   "id": "288194d7",
   "metadata": {
    "papermill": {
     "duration": 0.005664,
     "end_time": "2024-12-06T08:03:19.579685",
     "exception": false,
     "start_time": "2024-12-06T08:03:19.574021",
     "status": "completed"
    },
    "tags": []
   },
   "source": [
    "## Split the data into train, validation, and testing sets. Also encode symbol_id so that it can be used as categorial data.\n",
    "We are using the time index instead of train-test-split. We need to do this because train-test-split will choose random values which will cause our model to improperly train and overfit. This is because it is time-series data, so if we pick testing points in between the training points, these values will be much easier to predict since the model has seen the surrounding values. Our train, val, and test percentages are 60%, 20%, and 20% respectively. Additionally, before splitting into the sets and we encode the symbol_id using one-hot-encoder so that they are processed as categorical features instead of numerical features."
   ]
  },
  {
   "cell_type": "code",
   "execution_count": 5,
   "id": "a974b30a",
   "metadata": {
    "execution": {
     "iopub.execute_input": "2024-12-06T08:03:19.590648Z",
     "iopub.status.busy": "2024-12-06T08:03:19.590235Z",
     "iopub.status.idle": "2024-12-06T08:03:32.642605Z",
     "shell.execute_reply": "2024-12-06T08:03:32.641493Z"
    },
    "papermill": {
     "duration": 13.061289,
     "end_time": "2024-12-06T08:03:32.645795",
     "exception": false,
     "start_time": "2024-12-06T08:03:19.584506",
     "status": "completed"
    },
    "tags": []
   },
   "outputs": [],
   "source": [
    "# Determine splitting points\n",
    "total = len(df)\n",
    "train_percentage = 0.6\n",
    "val_percentage = 0.2\n",
    "test_percentage = 0.2\n",
    "apprx_train_len = int(total*train_percentage)\n",
    "apprx_val_len = int(total*val_percentage) \n",
    "apprx_test_len = total - apprx_train_len - apprx_val_len\n",
    "\n",
    "# Determine Splitting points\n",
    "def split_func(row):\n",
    "    s = row['cumulative_sum']\n",
    "    if s <= apprx_train_len:\n",
    "        return 'Train'\n",
    "    elif (s > apprx_train_len) and (s <= apprx_train_len + apprx_val_len):\n",
    "        return 'Val'\n",
    "    elif (s > apprx_train_len + apprx_val_len):\n",
    "        return 'Test'\n",
    "    else:\n",
    "        raise ValueError\n",
    "\n",
    "date_counts['Split'] = date_counts.apply(split_func, axis = 1)\n",
    "last_train_data = date_counts[date_counts.Split == 'Train'].tail(1) \n",
    "first_test_data = date_counts[date_counts.Split == 'Test'].head(1)\n",
    "\n",
    "# Once Splitting points are determined, then make the necessary splits\n",
    "def split_func_df(row):\n",
    "    s = row['date_id']\n",
    "    if s <= last_train_data.index[0]:\n",
    "        return 'Train'\n",
    "    elif (s > last_train_data.index[0]) and (s < first_test_data.index[0]):\n",
    "        return 'Val'\n",
    "    elif (s >= first_test_data.index[0]):\n",
    "        return 'Test'\n",
    "    else:\n",
    "        raise ValueError\n",
    "\n",
    "# Encode the symbol_id using one-hot-encoder so that they are processed as categorical features instead of numerical features\n",
    "df = df[df.symbol_id.isin(range(10))]\n",
    "encoded = pd.get_dummies(df['symbol_id'], prefix='symbol_id')\n",
    "max_symbol_id = df['symbol_id'].max()\n",
    "encoded.head()\n",
    "df = pd.concat([df, encoded], axis = 1)\n",
    "df = df.drop(['symbol_id'], axis = 1)\n",
    "\n",
    "df['Split'] = df.apply(split_func_df, axis = 1)\n",
    "df['Split'].value_counts()\n",
    "\n",
    "train_df = df[df.Split == 'Train']\n",
    "val_df = df[df.Split == 'Val']\n",
    "test_df = df[df.Split == 'Test']"
   ]
  },
  {
   "cell_type": "markdown",
   "id": "a0e24ddd",
   "metadata": {
    "papermill": {
     "duration": 0.006332,
     "end_time": "2024-12-06T08:03:32.658503",
     "exception": false,
     "start_time": "2024-12-06T08:03:32.652171",
     "status": "completed"
    },
    "tags": []
   },
   "source": [
    "## Now that preprocessing is done, we can start implementing our models. First we apply XGboost.\n",
    "XGboost is used to create additional features for predicting the value of responder_6. We do this because XGboost is not strictly a time-series model so it is able to capture different aspects of the dataset than the LSTM model. XGboost is able to capture non-temporal relationships and provide a prediction for responder_6 that can help the LSTM model come to a better conclusion of the actual value of responder_6. We use squarederror as the XGboost objective since we are trying to predict a numerical value. The number of gradient-boosting trees is set by n_estimators, and we use a value of 100. This number is the default value, and we achieved good results so we did not tune it further. Better tuning of the XGboost model is definitely possible."
   ]
  },
  {
   "cell_type": "code",
   "execution_count": 6,
   "id": "61cb7cfc",
   "metadata": {
    "execution": {
     "iopub.execute_input": "2024-12-06T08:03:32.671998Z",
     "iopub.status.busy": "2024-12-06T08:03:32.671552Z",
     "iopub.status.idle": "2024-12-06T08:03:32.677646Z",
     "shell.execute_reply": "2024-12-06T08:03:32.676762Z"
    },
    "papermill": {
     "duration": 0.016329,
     "end_time": "2024-12-06T08:03:32.679947",
     "exception": false,
     "start_time": "2024-12-06T08:03:32.663618",
     "status": "completed"
    },
    "tags": []
   },
   "outputs": [],
   "source": [
    "# import xgboost as xgb\n",
    "\n",
    "# # General Feature set (used for training LSTM)\n",
    "features = ['date_id', 'time_id', 'feature_06', 'feature_07', 'feature_05', 'feature_68', 'responder_6']+list(encoded.columns)\n",
    "# # Define features for XGBoost (does not include responder_6 so that we can train XGboost)\n",
    "# xgb_features = ['date_id', 'time_id', 'feature_06', 'feature_07', 'feature_05', 'feature_68'] + list(encoded.columns)\n",
    "\n",
    "# # Train XGBoost\n",
    "# xgb_model = xgb.XGBRegressor(objective='reg:squarederror', n_estimators=100)\n",
    "# xgb_model.fit(train_df[xgb_features], train_df['responder_6'])\n",
    "\n",
    "# # Make predictions\n",
    "# train_df['xgb_pred'] = xgb_model.predict(train_df[xgb_features])\n",
    "# val_df['xgb_pred'] = xgb_model.predict(val_df[xgb_features])\n"
   ]
  },
  {
   "cell_type": "markdown",
   "id": "5c817047",
   "metadata": {
    "papermill": {
     "duration": 0.004832,
     "end_time": "2024-12-06T08:03:32.692560",
     "exception": false,
     "start_time": "2024-12-06T08:03:32.687728",
     "status": "completed"
    },
    "tags": []
   },
   "source": [
    "### Why don't you actually use Xgboost after hyping it up?\n",
    "While we show an implementation for XGboost here, having this cascade into the LSTM model honestly did not improve the results and led to increased overfitting compared to just a standard LSTM model. We think with better tuning it is possible to have an Xgboost model feed into the LSTM model, but we currently do not have the time to tune this to perfection."
   ]
  },
  {
   "cell_type": "markdown",
   "id": "36e7f8eb",
   "metadata": {
    "papermill": {
     "duration": 0.007952,
     "end_time": "2024-12-06T08:03:32.705198",
     "exception": false,
     "start_time": "2024-12-06T08:03:32.697246",
     "status": "completed"
    },
    "tags": []
   },
   "source": [
    "## Now that we have all the features that we would like to use, we can train the Long Short Term Memory (LSTM) neural network model. \n",
    "\n",
    "For training, we are using the top-4 features and the additional prediction from the XGboost model. We use the top-4 features because this makes it possible to train the model given the limited Kaggle resources. These features were chosen using a correlation matrix which is detailed in the VAR notebook. A future implementation could use PCA instead of just choosing these K-features. Note, that unlike a VAR model,the time-series data is left as distinct dates and times instead of combining them into one index."
   ]
  },
  {
   "cell_type": "markdown",
   "id": "c4d6ba55",
   "metadata": {
    "papermill": {
     "duration": 0.004467,
     "end_time": "2024-12-06T08:03:32.717041",
     "exception": false,
     "start_time": "2024-12-06T08:03:32.712574",
     "status": "completed"
    },
    "tags": []
   },
   "source": [
    "## The first step for implementing a neural network is to split the training and validation data into sequences of a fixed length. \n",
    "For this training, we are using an arbitrary sequence length of 50, but there is potential that this could be tweaked for better results."
   ]
  },
  {
   "cell_type": "code",
   "execution_count": 7,
   "id": "ae905880",
   "metadata": {
    "execution": {
     "iopub.execute_input": "2024-12-06T08:03:32.728121Z",
     "iopub.status.busy": "2024-12-06T08:03:32.727315Z",
     "iopub.status.idle": "2024-12-06T08:03:32.730846Z",
     "shell.execute_reply": "2024-12-06T08:03:32.730214Z"
    },
    "papermill": {
     "duration": 0.010648,
     "end_time": "2024-12-06T08:03:32.732353",
     "exception": false,
     "start_time": "2024-12-06T08:03:32.721705",
     "status": "completed"
    },
    "tags": []
   },
   "outputs": [],
   "source": [
    "# Used to completely reset variables for more thorough model experimentation without having to repeat previous steps\n",
    "# del X_train, y_train, X_val, y_val, train_data, val_data, X_test, y_test, test_data"
   ]
  },
  {
   "cell_type": "code",
   "execution_count": 8,
   "id": "9d83aab7",
   "metadata": {
    "execution": {
     "iopub.execute_input": "2024-12-06T08:03:32.742793Z",
     "iopub.status.busy": "2024-12-06T08:03:32.742295Z",
     "iopub.status.idle": "2024-12-06T08:04:49.515390Z",
     "shell.execute_reply": "2024-12-06T08:04:49.514487Z"
    },
    "papermill": {
     "duration": 76.780699,
     "end_time": "2024-12-06T08:04:49.517735",
     "exception": false,
     "start_time": "2024-12-06T08:03:32.737036",
     "status": "completed"
    },
    "tags": []
   },
   "outputs": [],
   "source": [
    "import numpy as np\n",
    "# features_with_xgb = features + ['xgb_pred']\n",
    "\n",
    "def create_sequences(data, sequence_length):\n",
    "    X, y = [], []\n",
    "    for i in range(len(data) - sequence_length):\n",
    "        seq = data[i:i+sequence_length]\n",
    "        target = data['responder_6'].iloc[i+sequence_length]\n",
    "        X.append(seq)\n",
    "        y.append(target)\n",
    "    return np.array(X), np.array(y)\n",
    "\n",
    "# Create sequences\n",
    "# X_train, y_train = create_sequences(train_df[features_with_xgb], sequence_length=50)\n",
    "# X_val, y_val = create_sequences(val_df[features_with_xgb], sequence_length=50)\n",
    "X_train, y_train = create_sequences(train_df[features], sequence_length=50)\n",
    "X_val, y_val = create_sequences(val_df[features], sequence_length=50)"
   ]
  },
  {
   "cell_type": "markdown",
   "id": "685048ee",
   "metadata": {
    "papermill": {
     "duration": 0.004645,
     "end_time": "2024-12-06T08:04:49.527665",
     "exception": false,
     "start_time": "2024-12-06T08:04:49.523020",
     "status": "completed"
    },
    "tags": []
   },
   "source": [
    "## The next step is to define the model.\n",
    "For this case, we found that implementing two LSTM layers and one dense layer (necessary for regression) produced good results, but other combinations are definitely possible. Using \"tanh\" as the activation function yielded fair results, and in our testing, ReLu actually performed worse overall both in terms of accuracy and also the drastic increase in train time per epoch. We used Additionally, we also added optimizations that allow for the tensor processing cores on a TPU or specific GPUs (like the Nvidia T4) can be used to speed up the training process. We started out training with 5 epochs, and add further training later."
   ]
  },
  {
   "cell_type": "code",
   "execution_count": 9,
   "id": "0cd37a50",
   "metadata": {
    "execution": {
     "iopub.execute_input": "2024-12-06T08:04:49.538488Z",
     "iopub.status.busy": "2024-12-06T08:04:49.537998Z",
     "iopub.status.idle": "2024-12-06T08:04:49.541560Z",
     "shell.execute_reply": "2024-12-06T08:04:49.540872Z"
    },
    "papermill": {
     "duration": 0.010995,
     "end_time": "2024-12-06T08:04:49.543280",
     "exception": false,
     "start_time": "2024-12-06T08:04:49.532285",
     "status": "completed"
    },
    "tags": []
   },
   "outputs": [],
   "source": [
    "# Used for testing various iterations of the model (clear memory of prior model) without needing to rerun all the prior steps\n",
    "# del model, history"
   ]
  },
  {
   "cell_type": "code",
   "execution_count": 10,
   "id": "024ce8c9",
   "metadata": {
    "execution": {
     "iopub.execute_input": "2024-12-06T08:04:49.554016Z",
     "iopub.status.busy": "2024-12-06T08:04:49.553754Z",
     "iopub.status.idle": "2024-12-06T08:05:27.699818Z",
     "shell.execute_reply": "2024-12-06T08:05:27.698841Z"
    },
    "papermill": {
     "duration": 38.153929,
     "end_time": "2024-12-06T08:05:27.701981",
     "exception": false,
     "start_time": "2024-12-06T08:04:49.548052",
     "status": "completed"
    },
    "tags": []
   },
   "outputs": [],
   "source": [
    "import tensorflow as tf\n",
    "from tensorflow.keras.callbacks import TensorBoard\n",
    "# Create TensorFlow datasets to optimize for running on Nvidia T4s\n",
    "batch_size = 128\n",
    "train_data = tf.data.Dataset.from_tensor_slices((X_train.astype('float'), y_train.astype('float'))).batch(batch_size).prefetch(tf.data.AUTOTUNE)\n",
    "val_data = tf.data.Dataset.from_tensor_slices((X_val.astype('float'), y_val.astype('float'))).batch(batch_size).prefetch(tf.data.AUTOTUNE)\n",
    "\n",
    "# TensorBoard callback with profiling\n",
    "tensorboard_cb = TensorBoard(log_dir=\"./logs\", profile_batch='2,10')"
   ]
  },
  {
   "cell_type": "markdown",
   "id": "d83a232e",
   "metadata": {
    "papermill": {
     "duration": 0.004421,
     "end_time": "2024-12-06T08:05:27.711396",
     "exception": false,
     "start_time": "2024-12-06T08:05:27.706975",
     "status": "completed"
    },
    "tags": []
   },
   "source": [
    "## Bidirectional vs Unidirectional LSTM Neural Networks\n",
    "There are two models implemented in the following code, bidirectional and unidirectional LSTM. The benefit of a bidirectional approach is that it allows the model to capture context from both the past and the future. As a result, bidirectional LSTM networks can achieve better performance on tasks where context from both directions is crucial. While future data is what we are trying to predict in this case, financial markets are somewhat cyclical in nature meaning that patterns can repeat themselves, so bidirectional modeling could be a good approach for this dataset."
   ]
  },
  {
   "cell_type": "code",
   "execution_count": 11,
   "id": "d10e2a59",
   "metadata": {
    "execution": {
     "iopub.execute_input": "2024-12-06T08:05:27.722258Z",
     "iopub.status.busy": "2024-12-06T08:05:27.721536Z",
     "iopub.status.idle": "2024-12-06T08:26:22.885823Z",
     "shell.execute_reply": "2024-12-06T08:26:22.885033Z"
    },
    "papermill": {
     "duration": 1255.171696,
     "end_time": "2024-12-06T08:26:22.887809",
     "exception": false,
     "start_time": "2024-12-06T08:05:27.716113",
     "status": "completed"
    },
    "tags": []
   },
   "outputs": [
    {
     "name": "stderr",
     "output_type": "stream",
     "text": [
      "/opt/conda/lib/python3.10/site-packages/keras/src/layers/rnn/rnn.py:204: UserWarning: Do not pass an `input_shape`/`input_dim` argument to a layer. When using Sequential models, prefer using an `Input(shape)` object as the first layer in the model instead.\n",
      "  super().__init__(**kwargs)\n"
     ]
    },
    {
     "data": {
      "text/html": [
       "<pre style=\"white-space:pre;overflow-x:auto;line-height:normal;font-family:Menlo,'DejaVu Sans Mono',consolas,'Courier New',monospace\"><span style=\"font-weight: bold\">Model: \"sequential\"</span>\n",
       "</pre>\n"
      ],
      "text/plain": [
       "\u001b[1mModel: \"sequential\"\u001b[0m\n"
      ]
     },
     "metadata": {},
     "output_type": "display_data"
    },
    {
     "data": {
      "text/html": [
       "<pre style=\"white-space:pre;overflow-x:auto;line-height:normal;font-family:Menlo,'DejaVu Sans Mono',consolas,'Courier New',monospace\">┏━━━━━━━━━━━━━━━━━━━━━━━━━━━━━━━━━┳━━━━━━━━━━━━━━━━━━━━━━━━┳━━━━━━━━━━━━━━━┓\n",
       "┃<span style=\"font-weight: bold\"> Layer (type)                    </span>┃<span style=\"font-weight: bold\"> Output Shape           </span>┃<span style=\"font-weight: bold\">       Param # </span>┃\n",
       "┡━━━━━━━━━━━━━━━━━━━━━━━━━━━━━━━━━╇━━━━━━━━━━━━━━━━━━━━━━━━╇━━━━━━━━━━━━━━━┩\n",
       "│ bidirectional (<span style=\"color: #0087ff; text-decoration-color: #0087ff\">Bidirectional</span>)   │ ?                      │   <span style=\"color: #00af00; text-decoration-color: #00af00\">0</span> (unbuilt) │\n",
       "├─────────────────────────────────┼────────────────────────┼───────────────┤\n",
       "│ dropout (<span style=\"color: #0087ff; text-decoration-color: #0087ff\">Dropout</span>)               │ ?                      │   <span style=\"color: #00af00; text-decoration-color: #00af00\">0</span> (unbuilt) │\n",
       "├─────────────────────────────────┼────────────────────────┼───────────────┤\n",
       "│ bidirectional_1 (<span style=\"color: #0087ff; text-decoration-color: #0087ff\">Bidirectional</span>) │ ?                      │   <span style=\"color: #00af00; text-decoration-color: #00af00\">0</span> (unbuilt) │\n",
       "├─────────────────────────────────┼────────────────────────┼───────────────┤\n",
       "│ dropout_1 (<span style=\"color: #0087ff; text-decoration-color: #0087ff\">Dropout</span>)             │ ?                      │   <span style=\"color: #00af00; text-decoration-color: #00af00\">0</span> (unbuilt) │\n",
       "├─────────────────────────────────┼────────────────────────┼───────────────┤\n",
       "│ bidirectional_2 (<span style=\"color: #0087ff; text-decoration-color: #0087ff\">Bidirectional</span>) │ ?                      │   <span style=\"color: #00af00; text-decoration-color: #00af00\">0</span> (unbuilt) │\n",
       "├─────────────────────────────────┼────────────────────────┼───────────────┤\n",
       "│ dropout_2 (<span style=\"color: #0087ff; text-decoration-color: #0087ff\">Dropout</span>)             │ ?                      │   <span style=\"color: #00af00; text-decoration-color: #00af00\">0</span> (unbuilt) │\n",
       "├─────────────────────────────────┼────────────────────────┼───────────────┤\n",
       "│ dense (<span style=\"color: #0087ff; text-decoration-color: #0087ff\">Dense</span>)                   │ ?                      │   <span style=\"color: #00af00; text-decoration-color: #00af00\">0</span> (unbuilt) │\n",
       "└─────────────────────────────────┴────────────────────────┴───────────────┘\n",
       "</pre>\n"
      ],
      "text/plain": [
       "┏━━━━━━━━━━━━━━━━━━━━━━━━━━━━━━━━━┳━━━━━━━━━━━━━━━━━━━━━━━━┳━━━━━━━━━━━━━━━┓\n",
       "┃\u001b[1m \u001b[0m\u001b[1mLayer (type)                   \u001b[0m\u001b[1m \u001b[0m┃\u001b[1m \u001b[0m\u001b[1mOutput Shape          \u001b[0m\u001b[1m \u001b[0m┃\u001b[1m \u001b[0m\u001b[1m      Param #\u001b[0m\u001b[1m \u001b[0m┃\n",
       "┡━━━━━━━━━━━━━━━━━━━━━━━━━━━━━━━━━╇━━━━━━━━━━━━━━━━━━━━━━━━╇━━━━━━━━━━━━━━━┩\n",
       "│ bidirectional (\u001b[38;5;33mBidirectional\u001b[0m)   │ ?                      │   \u001b[38;5;34m0\u001b[0m (unbuilt) │\n",
       "├─────────────────────────────────┼────────────────────────┼───────────────┤\n",
       "│ dropout (\u001b[38;5;33mDropout\u001b[0m)               │ ?                      │   \u001b[38;5;34m0\u001b[0m (unbuilt) │\n",
       "├─────────────────────────────────┼────────────────────────┼───────────────┤\n",
       "│ bidirectional_1 (\u001b[38;5;33mBidirectional\u001b[0m) │ ?                      │   \u001b[38;5;34m0\u001b[0m (unbuilt) │\n",
       "├─────────────────────────────────┼────────────────────────┼───────────────┤\n",
       "│ dropout_1 (\u001b[38;5;33mDropout\u001b[0m)             │ ?                      │   \u001b[38;5;34m0\u001b[0m (unbuilt) │\n",
       "├─────────────────────────────────┼────────────────────────┼───────────────┤\n",
       "│ bidirectional_2 (\u001b[38;5;33mBidirectional\u001b[0m) │ ?                      │   \u001b[38;5;34m0\u001b[0m (unbuilt) │\n",
       "├─────────────────────────────────┼────────────────────────┼───────────────┤\n",
       "│ dropout_2 (\u001b[38;5;33mDropout\u001b[0m)             │ ?                      │   \u001b[38;5;34m0\u001b[0m (unbuilt) │\n",
       "├─────────────────────────────────┼────────────────────────┼───────────────┤\n",
       "│ dense (\u001b[38;5;33mDense\u001b[0m)                   │ ?                      │   \u001b[38;5;34m0\u001b[0m (unbuilt) │\n",
       "└─────────────────────────────────┴────────────────────────┴───────────────┘\n"
      ]
     },
     "metadata": {},
     "output_type": "display_data"
    },
    {
     "data": {
      "text/html": [
       "<pre style=\"white-space:pre;overflow-x:auto;line-height:normal;font-family:Menlo,'DejaVu Sans Mono',consolas,'Courier New',monospace\"><span style=\"font-weight: bold\"> Total params: </span><span style=\"color: #00af00; text-decoration-color: #00af00\">0</span> (0.00 B)\n",
       "</pre>\n"
      ],
      "text/plain": [
       "\u001b[1m Total params: \u001b[0m\u001b[38;5;34m0\u001b[0m (0.00 B)\n"
      ]
     },
     "metadata": {},
     "output_type": "display_data"
    },
    {
     "data": {
      "text/html": [
       "<pre style=\"white-space:pre;overflow-x:auto;line-height:normal;font-family:Menlo,'DejaVu Sans Mono',consolas,'Courier New',monospace\"><span style=\"font-weight: bold\"> Trainable params: </span><span style=\"color: #00af00; text-decoration-color: #00af00\">0</span> (0.00 B)\n",
       "</pre>\n"
      ],
      "text/plain": [
       "\u001b[1m Trainable params: \u001b[0m\u001b[38;5;34m0\u001b[0m (0.00 B)\n"
      ]
     },
     "metadata": {},
     "output_type": "display_data"
    },
    {
     "data": {
      "text/html": [
       "<pre style=\"white-space:pre;overflow-x:auto;line-height:normal;font-family:Menlo,'DejaVu Sans Mono',consolas,'Courier New',monospace\"><span style=\"font-weight: bold\"> Non-trainable params: </span><span style=\"color: #00af00; text-decoration-color: #00af00\">0</span> (0.00 B)\n",
       "</pre>\n"
      ],
      "text/plain": [
       "\u001b[1m Non-trainable params: \u001b[0m\u001b[38;5;34m0\u001b[0m (0.00 B)\n"
      ]
     },
     "metadata": {},
     "output_type": "display_data"
    },
    {
     "name": "stdout",
     "output_type": "stream",
     "text": [
      "Epoch 1/20\n"
     ]
    },
    {
     "name": "stderr",
     "output_type": "stream",
     "text": [
      "WARNING: All log messages before absl::InitializeLog() is called are written to STDERR\n",
      "I0000 00:00:1733472333.810987      92 service.cc:145] XLA service 0x7fb564004770 initialized for platform CUDA (this does not guarantee that XLA will be used). Devices:\n",
      "I0000 00:00:1733472333.811049      92 service.cc:153]   StreamExecutor device (0): Tesla T4, Compute Capability 7.5\n",
      "I0000 00:00:1733472333.811052      92 service.cc:153]   StreamExecutor device (1): Tesla T4, Compute Capability 7.5\n",
      "I0000 00:00:1733472333.976538      92 device_compiler.h:188] Compiled cluster using XLA!  This line is logged at most once for the lifetime of the process.\n"
     ]
    },
    {
     "name": "stdout",
     "output_type": "stream",
     "text": [
      "\u001b[1m3807/3807\u001b[0m \u001b[32m━━━━━━━━━━━━━━━━━━━━\u001b[0m\u001b[37m\u001b[0m \u001b[1m80s\u001b[0m 17ms/step - loss: 0.7653 - mae: 0.5772 - val_loss: 0.9018 - val_mae: 0.6307\n",
      "Epoch 2/20\n",
      "\u001b[1m3807/3807\u001b[0m \u001b[32m━━━━━━━━━━━━━━━━━━━━\u001b[0m\u001b[37m\u001b[0m \u001b[1m66s\u001b[0m 17ms/step - loss: 0.7429 - mae: 0.5636 - val_loss: 0.9015 - val_mae: 0.6306\n",
      "Epoch 3/20\n",
      "\u001b[1m3807/3807\u001b[0m \u001b[32m━━━━━━━━━━━━━━━━━━━━\u001b[0m\u001b[37m\u001b[0m \u001b[1m61s\u001b[0m 16ms/step - loss: 0.7426 - mae: 0.5636 - val_loss: 0.9018 - val_mae: 0.6309\n",
      "Epoch 4/20\n",
      "\u001b[1m3807/3807\u001b[0m \u001b[32m━━━━━━━━━━━━━━━━━━━━\u001b[0m\u001b[37m\u001b[0m \u001b[1m61s\u001b[0m 16ms/step - loss: 0.7411 - mae: 0.5633 - val_loss: 0.9009 - val_mae: 0.6303\n",
      "Epoch 5/20\n",
      "\u001b[1m3807/3807\u001b[0m \u001b[32m━━━━━━━━━━━━━━━━━━━━\u001b[0m\u001b[37m\u001b[0m \u001b[1m61s\u001b[0m 16ms/step - loss: 0.7387 - mae: 0.5631 - val_loss: 0.9005 - val_mae: 0.6302\n",
      "Epoch 6/20\n",
      "\u001b[1m3807/3807\u001b[0m \u001b[32m━━━━━━━━━━━━━━━━━━━━\u001b[0m\u001b[37m\u001b[0m \u001b[1m61s\u001b[0m 16ms/step - loss: 0.7358 - mae: 0.5623 - val_loss: 0.9006 - val_mae: 0.6307\n",
      "Epoch 7/20\n",
      "\u001b[1m3807/3807\u001b[0m \u001b[32m━━━━━━━━━━━━━━━━━━━━\u001b[0m\u001b[37m\u001b[0m \u001b[1m62s\u001b[0m 16ms/step - loss: 0.7315 - mae: 0.5624 - val_loss: 0.8977 - val_mae: 0.6297\n",
      "Epoch 8/20\n",
      "\u001b[1m3807/3807\u001b[0m \u001b[32m━━━━━━━━━━━━━━━━━━━━\u001b[0m\u001b[37m\u001b[0m \u001b[1m62s\u001b[0m 16ms/step - loss: 0.7246 - mae: 0.5609 - val_loss: 0.8803 - val_mae: 0.6246\n",
      "Epoch 9/20\n",
      "\u001b[1m3807/3807\u001b[0m \u001b[32m━━━━━━━━━━━━━━━━━━━━\u001b[0m\u001b[37m\u001b[0m \u001b[1m62s\u001b[0m 16ms/step - loss: 0.6746 - mae: 0.5458 - val_loss: 0.6356 - val_mae: 0.5416\n",
      "Epoch 10/20\n",
      "\u001b[1m3807/3807\u001b[0m \u001b[32m━━━━━━━━━━━━━━━━━━━━\u001b[0m\u001b[37m\u001b[0m \u001b[1m62s\u001b[0m 16ms/step - loss: 0.5270 - mae: 0.4866 - val_loss: 0.6464 - val_mae: 0.5506\n",
      "Epoch 11/20\n",
      "\u001b[1m3807/3807\u001b[0m \u001b[32m━━━━━━━━━━━━━━━━━━━━\u001b[0m\u001b[37m\u001b[0m \u001b[1m62s\u001b[0m 16ms/step - loss: 0.4923 - mae: 0.4715 - val_loss: 0.5827 - val_mae: 0.5171\n",
      "Epoch 12/20\n",
      "\u001b[1m3807/3807\u001b[0m \u001b[32m━━━━━━━━━━━━━━━━━━━━\u001b[0m\u001b[37m\u001b[0m \u001b[1m62s\u001b[0m 16ms/step - loss: 0.4618 - mae: 0.4556 - val_loss: 0.5572 - val_mae: 0.5130\n",
      "Epoch 13/20\n",
      "\u001b[1m3807/3807\u001b[0m \u001b[32m━━━━━━━━━━━━━━━━━━━━\u001b[0m\u001b[37m\u001b[0m \u001b[1m62s\u001b[0m 16ms/step - loss: 0.4455 - mae: 0.4471 - val_loss: 0.5517 - val_mae: 0.5148\n",
      "Epoch 14/20\n",
      "\u001b[1m3807/3807\u001b[0m \u001b[32m━━━━━━━━━━━━━━━━━━━━\u001b[0m\u001b[37m\u001b[0m \u001b[1m62s\u001b[0m 16ms/step - loss: 0.4515 - mae: 0.4546 - val_loss: 0.5070 - val_mae: 0.4846\n",
      "Epoch 15/20\n",
      "\u001b[1m3807/3807\u001b[0m \u001b[32m━━━━━━━━━━━━━━━━━━━━\u001b[0m\u001b[37m\u001b[0m \u001b[1m61s\u001b[0m 16ms/step - loss: 0.4276 - mae: 0.4384 - val_loss: 0.5783 - val_mae: 0.5198\n",
      "Epoch 16/20\n",
      "\u001b[1m3807/3807\u001b[0m \u001b[32m━━━━━━━━━━━━━━━━━━━━\u001b[0m\u001b[37m\u001b[0m \u001b[1m62s\u001b[0m 16ms/step - loss: 0.4256 - mae: 0.4423 - val_loss: 0.5055 - val_mae: 0.4861\n",
      "Epoch 17/20\n",
      "\u001b[1m3807/3807\u001b[0m \u001b[32m━━━━━━━━━━━━━━━━━━━━\u001b[0m\u001b[37m\u001b[0m \u001b[1m62s\u001b[0m 16ms/step - loss: 0.4570 - mae: 0.4535 - val_loss: 0.4818 - val_mae: 0.4690\n",
      "Epoch 18/20\n",
      "\u001b[1m3807/3807\u001b[0m \u001b[32m━━━━━━━━━━━━━━━━━━━━\u001b[0m\u001b[37m\u001b[0m \u001b[1m62s\u001b[0m 16ms/step - loss: 0.4145 - mae: 0.4329 - val_loss: 0.4979 - val_mae: 0.4723\n",
      "Epoch 19/20\n",
      "\u001b[1m3807/3807\u001b[0m \u001b[32m━━━━━━━━━━━━━━━━━━━━\u001b[0m\u001b[37m\u001b[0m \u001b[1m62s\u001b[0m 16ms/step - loss: 0.4491 - mae: 0.4540 - val_loss: 0.4701 - val_mae: 0.4681\n",
      "Epoch 20/20\n",
      "\u001b[1m3807/3807\u001b[0m \u001b[32m━━━━━━━━━━━━━━━━━━━━\u001b[0m\u001b[37m\u001b[0m \u001b[1m62s\u001b[0m 16ms/step - loss: 0.3816 - mae: 0.4167 - val_loss: 0.4629 - val_mae: 0.4574\n"
     ]
    }
   ],
   "source": [
    "from tensorflow.keras.models import Sequential\n",
    "from tensorflow.keras.layers import LSTM, Dense, Dropout\n",
    "from tensorflow.keras.mixed_precision import set_global_policy\n",
    "from tensorflow.keras.layers import Bidirectional\n",
    "\n",
    "# Primary function of these two lines is to enable optimization using tensor cores\n",
    "set_global_policy('mixed_float16')\n",
    "tf.config.optimizer.set_jit(True)\n",
    "\n",
    "# Define the model\n",
    "# model = Sequential([\n",
    "#     LSTM(512, activation='tanh', return_sequences=True, input_shape=(X_train.shape[1], X_train.shape[2])),\n",
    "#     Dropout(0.2),\n",
    "#     LSTM(256, activation='tanh'),\n",
    "#     Dropout(0.2),\n",
    "#     Dense(1)  # Output layer for regression\n",
    "# ])\n",
    "model = Sequential([\n",
    "    Bidirectional(LSTM(128, activation='tanh', return_sequences=True, input_shape=(X_train.shape[1], X_train.shape[2]))),\n",
    "    Dropout(0.2),\n",
    "    Bidirectional(LSTM(64, activation='tanh', return_sequences=True)),\n",
    "    Dropout(0.2),\n",
    "    Bidirectional(LSTM(32, activation='tanh')),\n",
    "    Dropout(0.2),\n",
    "    Dense(1)\n",
    "])\n",
    "\n",
    "# Compile the model\n",
    "model.compile(optimizer='adam', loss='mse', metrics=['mae'])\n",
    "model.summary()\n",
    "\n",
    "# Train the model\n",
    "history = model.fit(\n",
    "    train_data,\n",
    "    validation_data=val_data,\n",
    "    epochs=20,\n",
    "    callbacks=[tensorboard_cb]\n",
    ")"
   ]
  },
  {
   "cell_type": "markdown",
   "id": "d9b1a5b3",
   "metadata": {
    "papermill": {
     "duration": 0.901008,
     "end_time": "2024-12-06T08:26:24.747812",
     "exception": false,
     "start_time": "2024-12-06T08:26:23.846804",
     "status": "completed"
    },
    "tags": []
   },
   "source": [
    "## The following sections are just training the model with more epochs to get the desired results.\n",
    "This only runs if required."
   ]
  },
  {
   "cell_type": "code",
   "execution_count": 12,
   "id": "4d6ab120",
   "metadata": {
    "execution": {
     "iopub.execute_input": "2024-12-06T08:26:26.629140Z",
     "iopub.status.busy": "2024-12-06T08:26:26.628280Z",
     "iopub.status.idle": "2024-12-06T08:26:26.632425Z",
     "shell.execute_reply": "2024-12-06T08:26:26.631636Z"
    },
    "papermill": {
     "duration": 0.948217,
     "end_time": "2024-12-06T08:26:26.634059",
     "exception": false,
     "start_time": "2024-12-06T08:26:25.685842",
     "status": "completed"
    },
    "tags": []
   },
   "outputs": [],
   "source": [
    "# history = model.fit(\n",
    "#     train_data,\n",
    "#     validation_data=val_data,\n",
    "#     epochs=15,\n",
    "#     verbose=1,\n",
    "#     callbacks=[tensorboard_cb]\n",
    "# )"
   ]
  },
  {
   "cell_type": "markdown",
   "id": "d3e75621",
   "metadata": {
    "papermill": {
     "duration": 0.891445,
     "end_time": "2024-12-06T08:26:28.459644",
     "exception": false,
     "start_time": "2024-12-06T08:26:27.568199",
     "status": "completed"
    },
    "tags": []
   },
   "source": [
    "## At this point the validation loss and training loss are not reducing further and are fairly close in value, so I think it is not worth continuing to train on more epochs. Let's save the model for future use."
   ]
  },
  {
   "cell_type": "code",
   "execution_count": 13,
   "id": "ff753fea",
   "metadata": {
    "execution": {
     "iopub.execute_input": "2024-12-06T08:26:30.316287Z",
     "iopub.status.busy": "2024-12-06T08:26:30.315615Z",
     "iopub.status.idle": "2024-12-06T08:26:30.395374Z",
     "shell.execute_reply": "2024-12-06T08:26:30.394724Z"
    },
    "papermill": {
     "duration": 1.014942,
     "end_time": "2024-12-06T08:26:30.397132",
     "exception": false,
     "start_time": "2024-12-06T08:26:29.382190",
     "status": "completed"
    },
    "tags": []
   },
   "outputs": [],
   "source": [
    "model.save('model.h5')"
   ]
  },
  {
   "cell_type": "markdown",
   "id": "ee3d96c1",
   "metadata": {
    "papermill": {
     "duration": 0.936912,
     "end_time": "2024-12-06T08:26:32.258843",
     "exception": false,
     "start_time": "2024-12-06T08:26:31.321931",
     "status": "completed"
    },
    "tags": []
   },
   "source": [
    "## Next create the testing sequences so we can test the model on fresh data."
   ]
  },
  {
   "cell_type": "code",
   "execution_count": 14,
   "id": "3ac43e94",
   "metadata": {
    "execution": {
     "iopub.execute_input": "2024-12-06T08:26:34.191680Z",
     "iopub.status.busy": "2024-12-06T08:26:34.191253Z",
     "iopub.status.idle": "2024-12-06T08:26:59.411729Z",
     "shell.execute_reply": "2024-12-06T08:26:59.410941Z"
    },
    "papermill": {
     "duration": 26.166196,
     "end_time": "2024-12-06T08:26:59.414070",
     "exception": false,
     "start_time": "2024-12-06T08:26:33.247874",
     "status": "completed"
    },
    "tags": []
   },
   "outputs": [],
   "source": [
    "X_test, y_test = create_sequences(test_df[features], sequence_length=50)\n",
    "test_data = tf.data.Dataset.from_tensor_slices((X_test.astype('float'), y_test.astype('float'))).batch(batch_size).prefetch(tf.data.AUTOTUNE)"
   ]
  },
  {
   "cell_type": "code",
   "execution_count": 15,
   "id": "a15e2010",
   "metadata": {
    "execution": {
     "iopub.execute_input": "2024-12-06T08:27:01.264546Z",
     "iopub.status.busy": "2024-12-06T08:27:01.264189Z",
     "iopub.status.idle": "2024-12-06T08:27:09.689059Z",
     "shell.execute_reply": "2024-12-06T08:27:09.688247Z"
    },
    "papermill": {
     "duration": 9.372397,
     "end_time": "2024-12-06T08:27:09.690778",
     "exception": false,
     "start_time": "2024-12-06T08:27:00.318381",
     "status": "completed"
    },
    "tags": []
   },
   "outputs": [
    {
     "name": "stdout",
     "output_type": "stream",
     "text": [
      "\u001b[1m1207/1207\u001b[0m \u001b[32m━━━━━━━━━━━━━━━━━━━━\u001b[0m\u001b[37m\u001b[0m \u001b[1m8s\u001b[0m 6ms/step - loss: 0.5534 - mae: 0.4962\n"
     ]
    }
   ],
   "source": [
    "result = model.evaluate(test_data)"
   ]
  },
  {
   "cell_type": "markdown",
   "id": "6aed9448",
   "metadata": {
    "papermill": {
     "duration": 0.951017,
     "end_time": "2024-12-06T08:27:11.581183",
     "exception": false,
     "start_time": "2024-12-06T08:27:10.630166",
     "status": "completed"
    },
    "tags": []
   },
   "source": [
    "This loss is much higher than the training set indicating that the model is overfitting by a fair margin and more tuning is required."
   ]
  },
  {
   "cell_type": "code",
   "execution_count": 16,
   "id": "a929a9fb",
   "metadata": {
    "execution": {
     "iopub.execute_input": "2024-12-06T08:27:13.499035Z",
     "iopub.status.busy": "2024-12-06T08:27:13.498695Z",
     "iopub.status.idle": "2024-12-06T08:27:13.550456Z",
     "shell.execute_reply": "2024-12-06T08:27:13.549490Z"
    },
    "papermill": {
     "duration": 0.981334,
     "end_time": "2024-12-06T08:27:13.552228",
     "exception": false,
     "start_time": "2024-12-06T08:27:12.570894",
     "status": "completed"
    },
    "tags": []
   },
   "outputs": [
    {
     "name": "stdout",
     "output_type": "stream",
     "text": [
      "221\n"
     ]
    }
   ],
   "source": [
    "s_0 = test_df[test_df.symbol_id_0 == 1]\n",
    "\n",
    "len(s_0)\n",
    "\n",
    "sample_df = s_0.iloc[::100]\n",
    "\n",
    "print(len(sample_df))\n",
    "\n",
    "X_s, y_s = create_sequences(sample_df[features], sequence_length=50)\n",
    "\n",
    "sample_data = tf.data.Dataset.from_tensor_slices((X_s.astype('float'))).batch(batch_size).prefetch(tf.data.AUTOTUNE)"
   ]
  },
  {
   "cell_type": "markdown",
   "id": "d134124b",
   "metadata": {
    "papermill": {
     "duration": 0.947628,
     "end_time": "2024-12-06T08:27:15.441739",
     "exception": false,
     "start_time": "2024-12-06T08:27:14.494111",
     "status": "completed"
    },
    "tags": []
   },
   "source": [
    "## Finally plot the results of the running the model with the test set."
   ]
  },
  {
   "cell_type": "code",
   "execution_count": 17,
   "id": "d36def68",
   "metadata": {
    "execution": {
     "iopub.execute_input": "2024-12-06T08:27:17.357877Z",
     "iopub.status.busy": "2024-12-06T08:27:17.356907Z",
     "iopub.status.idle": "2024-12-06T08:27:19.252831Z",
     "shell.execute_reply": "2024-12-06T08:27:19.251947Z"
    },
    "papermill": {
     "duration": 2.838964,
     "end_time": "2024-12-06T08:27:19.255355",
     "exception": false,
     "start_time": "2024-12-06T08:27:16.416391",
     "status": "completed"
    },
    "tags": []
   },
   "outputs": [
    {
     "name": "stdout",
     "output_type": "stream",
     "text": [
      "\u001b[1m2/2\u001b[0m \u001b[32m━━━━━━━━━━━━━━━━━━━━\u001b[0m\u001b[37m\u001b[0m \u001b[1m2s\u001b[0m 809ms/step\n"
     ]
    },
    {
     "data": {
      "image/png": "[encoded data removed]",
      "text/plain": [
       "<Figure size 1000x600 with 1 Axes>"
      ]
     },
     "metadata": {},
     "output_type": "display_data"
    }
   ],
   "source": [
    "import matplotlib.pyplot as plt\n",
    "\n",
    "\n",
    "\n",
    "# Get the data for responder_6 in the test set\n",
    "\n",
    "responder_6_predictions = model.predict(sample_data)\n",
    "\n",
    "responder_6_actual_values = y_s\n",
    "\n",
    "# Plot the actual vs predicted values\n",
    "\n",
    "plt.figure(figsize=(10, 6))  # Adjust figure size as needed \n",
    "\n",
    "plt.plot(range(len(responder_6_actual_values)), responder_6_actual_values, label='Actual Values')\n",
    "\n",
    "plt.plot(range(len(responder_6_predictions.squeeze())), responder_6_predictions.squeeze(), label='Predicted Values')  # Squeeze to remove extra dimension\n",
    "\n",
    "plt.xlabel('Time Step')\n",
    "\n",
    "plt.ylabel('Values')\n",
    "\n",
    "plt.title(f'Responder 6 - Actual vs Predicted Values')\n",
    "\n",
    "plt.legend()\n",
    "\n",
    "plt.grid(True)\n",
    "\n",
    "plt.show()"
   ]
  },
  {
   "cell_type": "markdown",
   "id": "fa58a798",
   "metadata": {
    "papermill": {
     "duration": 0.949496,
     "end_time": "2024-12-06T08:27:21.163770",
     "exception": false,
     "start_time": "2024-12-06T08:27:20.214274",
     "status": "completed"
    },
    "tags": []
   },
   "source": [
    "## Conclusions\n",
    "Interestingly enough, the difference between the MSE of the train/val and test sets for this model is much smaller than that of all the other models that we tested. However, I think the difference between the results we still see can be explained by the fact that the test set is completely new data to the model that has little resemblance to the data that it was trained on. To improve this relationship, one could potentially implement better tuning on both the XGboost and LSTM model to reduce overfitting and increase the correlation between the features and responders. Overall, I think these results are acceptable for the time being (and given our skill level)."
   ]
  }
 ],
 "metadata": {
  "kaggle": {
   "accelerator": "nvidiaTeslaT4",
   "dataSources": [
    {
     "databundleVersionId": 9871156,
     "sourceId": 84493,
     "sourceType": "competition"
    }
   ],
   "dockerImageVersionId": 30805,
   "isGpuEnabled": true,
   "isInternetEnabled": true,
   "language": "python",
   "sourceType": "notebook"
  },
  "kernelspec": {
   "display_name": "Python 3",
   "language": "python",
   "name": "python3"
  },
  "language_info": {
   "codemirror_mode": {
    "name": "ipython",
    "version": 3
   },
   "file_extension": ".py",
   "mimetype": "text/x-python",
   "name": "python",
   "nbconvert_exporter": "python",
   "pygments_lexer": "ipython3",
   "version": "3.10.14"
  },
  "papermill": {
   "default_parameters": {},
   "duration": 1470.070177,
   "end_time": "2024-12-06T08:27:26.080246",
   "environment_variables": {},
   "exception": null,
   "input_path": "__notebook__.ipynb",
   "output_path": "__notebook__.ipynb",
   "parameters": {},
   "start_time": "2024-12-06T08:02:56.010069",
   "version": "2.6.0"
  }
 },
 "nbformat": 4,
 "nbformat_minor": 5
}
